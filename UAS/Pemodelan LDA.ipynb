{
 "cells": [
  {
   "cell_type": "markdown",
   "id": "5c572327",
   "metadata": {},
   "source": [
    "### Monika Belva Celesta - A12.2020.06392"
   ]
  },
  {
   "cell_type": "markdown",
   "id": "83991ad5",
   "metadata": {},
   "source": [
    "#### 2. Topic Modelling Metode (Topik dari tiap sentimen yang didapatkan)\n",
    "- Jelaskan metode yang digunakan (LDA/LSA/PLSA atau yang lain). Dijelaskan juga alasan memakai metode tsb.\n",
    "-  Menjelaskan coding dan hasilnya"
   ]
  },
  {
   "cell_type": "code",
   "execution_count": 1,
   "id": "00e66c87",
   "metadata": {},
   "outputs": [
    {
     "name": "stdout",
     "output_type": "stream",
     "text": [
      "Requirement already satisfied: gensim in c:\\users\\acer swift\\anaconda3\\lib\\site-packages (4.3.0)\n",
      "Requirement already satisfied: numpy>=1.18.5 in c:\\users\\acer swift\\anaconda3\\lib\\site-packages (from gensim) (1.24.1)\n",
      "Requirement already satisfied: scipy>=1.7.0 in c:\\users\\acer swift\\anaconda3\\lib\\site-packages (from gensim) (1.7.3)\n",
      "Requirement already satisfied: Cython==0.29.32 in c:\\users\\acer swift\\anaconda3\\lib\\site-packages (from gensim) (0.29.32)\n",
      "Requirement already satisfied: FuzzyTM>=0.4.0 in c:\\users\\acer swift\\anaconda3\\lib\\site-packages (from gensim) (2.0.5)\n",
      "Requirement already satisfied: smart-open>=1.8.1 in c:\\users\\acer swift\\anaconda3\\lib\\site-packages (from gensim) (5.1.0)\n",
      "Requirement already satisfied: pandas in c:\\users\\acer swift\\anaconda3\\lib\\site-packages (from FuzzyTM>=0.4.0->gensim) (1.4.2)\n",
      "Requirement already satisfied: pyfume in c:\\users\\acer swift\\anaconda3\\lib\\site-packages (from FuzzyTM>=0.4.0->gensim) (0.2.25)\n",
      "Collecting numpy>=1.18.5\n",
      "  Using cached numpy-1.22.4-cp39-cp39-win_amd64.whl (14.7 MB)\n",
      "Requirement already satisfied: python-dateutil>=2.8.1 in c:\\users\\acer swift\\anaconda3\\lib\\site-packages (from pandas->FuzzyTM>=0.4.0->gensim) (2.8.2)\n",
      "Requirement already satisfied: pytz>=2020.1 in c:\\users\\acer swift\\anaconda3\\lib\\site-packages (from pandas->FuzzyTM>=0.4.0->gensim) (2021.3)\n",
      "Requirement already satisfied: six>=1.5 in c:\\users\\acer swift\\anaconda3\\lib\\site-packages (from python-dateutil>=2.8.1->pandas->FuzzyTM>=0.4.0->gensim) (1.16.0)\n",
      "Requirement already satisfied: fst-pso in c:\\users\\acer swift\\anaconda3\\lib\\site-packages (from pyfume->FuzzyTM>=0.4.0->gensim) (1.8.1)\n"
     ]
    },
    {
     "name": "stderr",
     "output_type": "stream",
     "text": [
      "ERROR: pip's dependency resolver does not currently take into account all the packages that are installed. This behaviour is the source of the following dependency conflicts.\n",
      "daal4py 2021.5.0 requires daal==2021.4.0, which is not installed.\n",
      "numba 0.55.1 requires numpy<1.22,>=1.18, but you have numpy 1.22.4 which is incompatible.\n"
     ]
    },
    {
     "name": "stdout",
     "output_type": "stream",
     "text": [
      "Requirement already satisfied: simpful in c:\\users\\acer swift\\anaconda3\\lib\\site-packages (from pyfume->FuzzyTM>=0.4.0->gensim) (2.9.0)\n",
      "Requirement already satisfied: miniful in c:\\users\\acer swift\\anaconda3\\lib\\site-packages (from fst-pso->pyfume->FuzzyTM>=0.4.0->gensim) (0.0.6)\n",
      "Requirement already satisfied: requests in c:\\users\\acer swift\\anaconda3\\lib\\site-packages (from simpful->pyfume->FuzzyTM>=0.4.0->gensim) (2.27.1)\n",
      "Requirement already satisfied: urllib3<1.27,>=1.21.1 in c:\\users\\acer swift\\anaconda3\\lib\\site-packages (from requests->simpful->pyfume->FuzzyTM>=0.4.0->gensim) (1.26.9)\n",
      "Requirement already satisfied: idna<4,>=2.5 in c:\\users\\acer swift\\anaconda3\\lib\\site-packages (from requests->simpful->pyfume->FuzzyTM>=0.4.0->gensim) (3.3)\n",
      "Requirement already satisfied: certifi>=2017.4.17 in c:\\users\\acer swift\\anaconda3\\lib\\site-packages (from requests->simpful->pyfume->FuzzyTM>=0.4.0->gensim) (2021.10.8)\n",
      "Requirement already satisfied: charset-normalizer~=2.0.0 in c:\\users\\acer swift\\anaconda3\\lib\\site-packages (from requests->simpful->pyfume->FuzzyTM>=0.4.0->gensim) (2.0.4)\n",
      "Installing collected packages: numpy\n",
      "  Attempting uninstall: numpy\n",
      "    Found existing installation: numpy 1.24.1\n",
      "    Uninstalling numpy-1.24.1:\n",
      "      Successfully uninstalled numpy-1.24.1\n",
      "Successfully installed numpy-1.22.4\n"
     ]
    }
   ],
   "source": [
    "!pip install --upgrade gensim"
   ]
  },
  {
   "cell_type": "code",
   "execution_count": 2,
   "id": "9860ec5a",
   "metadata": {},
   "outputs": [
    {
     "name": "stdout",
     "output_type": "stream",
     "text": [
      "Requirement already satisfied: pyldavis==3.2.1 in c:\\users\\acer swift\\anaconda3\\lib\\site-packages (3.2.1)\n",
      "Requirement already satisfied: joblib>=0.8.4 in c:\\users\\acer swift\\anaconda3\\lib\\site-packages (from pyldavis==3.2.1) (1.1.0)\n",
      "Requirement already satisfied: scipy>=0.18.0 in c:\\users\\acer swift\\anaconda3\\lib\\site-packages (from pyldavis==3.2.1) (1.7.3)\n",
      "Requirement already satisfied: jinja2>=2.7.2 in c:\\users\\acer swift\\anaconda3\\lib\\site-packages (from pyldavis==3.2.1) (2.11.3)\n",
      "Requirement already satisfied: numpy>=1.9.2 in c:\\users\\acer swift\\anaconda3\\lib\\site-packages (from pyldavis==3.2.1) (1.22.4)\n",
      "Requirement already satisfied: numexpr in c:\\users\\acer swift\\anaconda3\\lib\\site-packages (from pyldavis==3.2.1) (2.8.1)\n",
      "Requirement already satisfied: wheel>=0.23.0 in c:\\users\\acer swift\\anaconda3\\lib\\site-packages (from pyldavis==3.2.1) (0.37.1)\n",
      "Requirement already satisfied: future in c:\\users\\acer swift\\anaconda3\\lib\\site-packages (from pyldavis==3.2.1) (0.18.2)\n",
      "Requirement already satisfied: pandas>=0.17.0 in c:\\users\\acer swift\\anaconda3\\lib\\site-packages (from pyldavis==3.2.1) (1.4.2)\n",
      "Requirement already satisfied: funcy in c:\\users\\acer swift\\anaconda3\\lib\\site-packages (from pyldavis==3.2.1) (1.17)\n",
      "Requirement already satisfied: MarkupSafe>=0.23 in c:\\users\\acer swift\\anaconda3\\lib\\site-packages (from jinja2>=2.7.2->pyldavis==3.2.1) (2.0.1)\n",
      "Requirement already satisfied: python-dateutil>=2.8.1 in c:\\users\\acer swift\\anaconda3\\lib\\site-packages (from pandas>=0.17.0->pyldavis==3.2.1) (2.8.2)\n",
      "Requirement already satisfied: pytz>=2020.1 in c:\\users\\acer swift\\anaconda3\\lib\\site-packages (from pandas>=0.17.0->pyldavis==3.2.1) (2021.3)\n",
      "Requirement already satisfied: six>=1.5 in c:\\users\\acer swift\\anaconda3\\lib\\site-packages (from python-dateutil>=2.8.1->pandas>=0.17.0->pyldavis==3.2.1) (1.16.0)\n",
      "Requirement already satisfied: packaging in c:\\users\\acer swift\\anaconda3\\lib\\site-packages (from numexpr->pyldavis==3.2.1) (21.3)\n",
      "Requirement already satisfied: pyparsing!=3.0.5,>=2.0.2 in c:\\users\\acer swift\\anaconda3\\lib\\site-packages (from packaging->numexpr->pyldavis==3.2.1) (3.0.4)\n"
     ]
    }
   ],
   "source": [
    "!pip install pyldavis==3.2.1"
   ]
  },
  {
   "cell_type": "code",
   "execution_count": 3,
   "id": "5f3e5253",
   "metadata": {},
   "outputs": [
    {
     "name": "stdout",
     "output_type": "stream",
     "text": [
      "Requirement already satisfied: Sastrawi in c:\\users\\acer swift\\appdata\\roaming\\python\\python39\\site-packages (1.0.1)\n"
     ]
    }
   ],
   "source": [
    "!pip install Sastrawi"
   ]
  },
  {
   "cell_type": "code",
   "execution_count": 4,
   "id": "497173f0",
   "metadata": {},
   "outputs": [
    {
     "name": "stdout",
     "output_type": "stream",
     "text": [
      "Requirement already satisfied: swifter in c:\\users\\acer swift\\appdata\\roaming\\python\\python39\\site-packages (1.3.4)\n",
      "Requirement already satisfied: pandas>=1.0.0 in c:\\users\\acer swift\\anaconda3\\lib\\site-packages (from swifter) (1.4.2)\n",
      "Requirement already satisfied: bleach>=3.1.1 in c:\\users\\acer swift\\anaconda3\\lib\\site-packages (from swifter) (4.1.0)\n",
      "Requirement already satisfied: cloudpickle>=0.2.2 in c:\\users\\acer swift\\anaconda3\\lib\\site-packages (from swifter) (2.0.0)\n",
      "Requirement already satisfied: dask[dataframe]>=2.10.0 in c:\\users\\acer swift\\anaconda3\\lib\\site-packages (from swifter) (2022.2.1)\n",
      "Requirement already satisfied: tqdm>=4.33.0 in c:\\users\\acer swift\\anaconda3\\lib\\site-packages (from swifter) (4.64.0)\n",
      "Requirement already satisfied: psutil>=5.6.6 in c:\\users\\acer swift\\anaconda3\\lib\\site-packages (from swifter) (5.8.0)\n",
      "Requirement already satisfied: ipywidgets>=7.0.0 in c:\\users\\acer swift\\anaconda3\\lib\\site-packages (from swifter) (7.6.5)\n",
      "Requirement already satisfied: parso>0.4.0 in c:\\users\\acer swift\\anaconda3\\lib\\site-packages (from swifter) (0.8.3)\n",
      "Requirement already satisfied: six>=1.9.0 in c:\\users\\acer swift\\anaconda3\\lib\\site-packages (from bleach>=3.1.1->swifter) (1.16.0)\n",
      "Requirement already satisfied: packaging in c:\\users\\acer swift\\anaconda3\\lib\\site-packages (from bleach>=3.1.1->swifter) (21.3)\n",
      "Requirement already satisfied: webencodings in c:\\users\\acer swift\\anaconda3\\lib\\site-packages (from bleach>=3.1.1->swifter) (0.5.1)\n",
      "Requirement already satisfied: fsspec>=0.6.0 in c:\\users\\acer swift\\anaconda3\\lib\\site-packages (from dask[dataframe]>=2.10.0->swifter) (2022.2.0)\n",
      "Requirement already satisfied: partd>=0.3.10 in c:\\users\\acer swift\\anaconda3\\lib\\site-packages (from dask[dataframe]>=2.10.0->swifter) (1.2.0)\n",
      "Requirement already satisfied: toolz>=0.8.2 in c:\\users\\acer swift\\anaconda3\\lib\\site-packages (from dask[dataframe]>=2.10.0->swifter) (0.11.2)\n",
      "Requirement already satisfied: pyyaml>=5.3.1 in c:\\users\\acer swift\\anaconda3\\lib\\site-packages (from dask[dataframe]>=2.10.0->swifter) (6.0)\n",
      "Requirement already satisfied: numpy>=1.18 in c:\\users\\acer swift\\anaconda3\\lib\\site-packages (from dask[dataframe]>=2.10.0->swifter) (1.22.4)\n",
      "Requirement already satisfied: traitlets>=4.3.1 in c:\\users\\acer swift\\anaconda3\\lib\\site-packages (from ipywidgets>=7.0.0->swifter) (5.1.1)\n",
      "Requirement already satisfied: jupyterlab-widgets>=1.0.0 in c:\\users\\acer swift\\anaconda3\\lib\\site-packages (from ipywidgets>=7.0.0->swifter) (1.0.0)\n",
      "Requirement already satisfied: ipython-genutils~=0.2.0 in c:\\users\\acer swift\\anaconda3\\lib\\site-packages (from ipywidgets>=7.0.0->swifter) (0.2.0)\n",
      "Requirement already satisfied: ipykernel>=4.5.1 in c:\\users\\acer swift\\anaconda3\\lib\\site-packages (from ipywidgets>=7.0.0->swifter) (6.9.1)\n",
      "Requirement already satisfied: widgetsnbextension~=3.5.0 in c:\\users\\acer swift\\anaconda3\\lib\\site-packages (from ipywidgets>=7.0.0->swifter) (3.5.2)\n",
      "Requirement already satisfied: ipython>=4.0.0 in c:\\users\\acer swift\\anaconda3\\lib\\site-packages (from ipywidgets>=7.0.0->swifter) (8.2.0)\n",
      "Requirement already satisfied: nbformat>=4.2.0 in c:\\users\\acer swift\\anaconda3\\lib\\site-packages (from ipywidgets>=7.0.0->swifter) (5.3.0)\n",
      "Requirement already satisfied: matplotlib-inline<0.2.0,>=0.1.0 in c:\\users\\acer swift\\anaconda3\\lib\\site-packages (from ipykernel>=4.5.1->ipywidgets>=7.0.0->swifter) (0.1.2)\n",
      "Requirement already satisfied: jupyter-client<8.0 in c:\\users\\acer swift\\anaconda3\\lib\\site-packages (from ipykernel>=4.5.1->ipywidgets>=7.0.0->swifter) (6.1.12)\n",
      "Requirement already satisfied: debugpy<2.0,>=1.0.0 in c:\\users\\acer swift\\anaconda3\\lib\\site-packages (from ipykernel>=4.5.1->ipywidgets>=7.0.0->swifter) (1.5.1)\n",
      "Requirement already satisfied: tornado<7.0,>=4.2 in c:\\users\\acer swift\\anaconda3\\lib\\site-packages (from ipykernel>=4.5.1->ipywidgets>=7.0.0->swifter) (6.1)\n",
      "Requirement already satisfied: nest-asyncio in c:\\users\\acer swift\\anaconda3\\lib\\site-packages (from ipykernel>=4.5.1->ipywidgets>=7.0.0->swifter) (1.5.5)\n",
      "Requirement already satisfied: setuptools>=18.5 in c:\\users\\acer swift\\anaconda3\\lib\\site-packages (from ipython>=4.0.0->ipywidgets>=7.0.0->swifter) (61.2.0)\n",
      "Requirement already satisfied: backcall in c:\\users\\acer swift\\anaconda3\\lib\\site-packages (from ipython>=4.0.0->ipywidgets>=7.0.0->swifter) (0.2.0)\n",
      "Requirement already satisfied: stack-data in c:\\users\\acer swift\\anaconda3\\lib\\site-packages (from ipython>=4.0.0->ipywidgets>=7.0.0->swifter) (0.2.0)\n",
      "Requirement already satisfied: pickleshare in c:\\users\\acer swift\\anaconda3\\lib\\site-packages (from ipython>=4.0.0->ipywidgets>=7.0.0->swifter) (0.7.5)\n",
      "Requirement already satisfied: prompt-toolkit!=3.0.0,!=3.0.1,<3.1.0,>=2.0.0 in c:\\users\\acer swift\\anaconda3\\lib\\site-packages (from ipython>=4.0.0->ipywidgets>=7.0.0->swifter) (3.0.20)\n",
      "Requirement already satisfied: colorama in c:\\users\\acer swift\\anaconda3\\lib\\site-packages (from ipython>=4.0.0->ipywidgets>=7.0.0->swifter) (0.4.4)\n",
      "Requirement already satisfied: decorator in c:\\users\\acer swift\\anaconda3\\lib\\site-packages (from ipython>=4.0.0->ipywidgets>=7.0.0->swifter) (5.1.1)\n",
      "Requirement already satisfied: jedi>=0.16 in c:\\users\\acer swift\\anaconda3\\lib\\site-packages (from ipython>=4.0.0->ipywidgets>=7.0.0->swifter) (0.18.1)\n",
      "Requirement already satisfied: pygments>=2.4.0 in c:\\users\\acer swift\\anaconda3\\lib\\site-packages (from ipython>=4.0.0->ipywidgets>=7.0.0->swifter) (2.11.2)\n",
      "Requirement already satisfied: python-dateutil>=2.1 in c:\\users\\acer swift\\anaconda3\\lib\\site-packages (from jupyter-client<8.0->ipykernel>=4.5.1->ipywidgets>=7.0.0->swifter) (2.8.2)\n",
      "Requirement already satisfied: jupyter-core>=4.6.0 in c:\\users\\acer swift\\anaconda3\\lib\\site-packages (from jupyter-client<8.0->ipykernel>=4.5.1->ipywidgets>=7.0.0->swifter) (4.9.2)\n",
      "Requirement already satisfied: pyzmq>=13 in c:\\users\\acer swift\\anaconda3\\lib\\site-packages (from jupyter-client<8.0->ipykernel>=4.5.1->ipywidgets>=7.0.0->swifter) (22.3.0)\n",
      "Requirement already satisfied: pywin32>=1.0 in c:\\users\\acer swift\\anaconda3\\lib\\site-packages (from jupyter-core>=4.6.0->jupyter-client<8.0->ipykernel>=4.5.1->ipywidgets>=7.0.0->swifter) (302)\n",
      "Requirement already satisfied: jsonschema>=2.6 in c:\\users\\acer swift\\anaconda3\\lib\\site-packages (from nbformat>=4.2.0->ipywidgets>=7.0.0->swifter) (4.4.0)\n",
      "Requirement already satisfied: fastjsonschema in c:\\users\\acer swift\\anaconda3\\lib\\site-packages (from nbformat>=4.2.0->ipywidgets>=7.0.0->swifter) (2.15.1)\n",
      "Requirement already satisfied: attrs>=17.4.0 in c:\\users\\acer swift\\anaconda3\\lib\\site-packages (from jsonschema>=2.6->nbformat>=4.2.0->ipywidgets>=7.0.0->swifter) (21.4.0)\n",
      "Requirement already satisfied: pyrsistent!=0.17.0,!=0.17.1,!=0.17.2,>=0.14.0 in c:\\users\\acer swift\\anaconda3\\lib\\site-packages (from jsonschema>=2.6->nbformat>=4.2.0->ipywidgets>=7.0.0->swifter) (0.18.0)\n",
      "Requirement already satisfied: pyparsing!=3.0.5,>=2.0.2 in c:\\users\\acer swift\\anaconda3\\lib\\site-packages (from packaging->bleach>=3.1.1->swifter) (3.0.4)\n",
      "Requirement already satisfied: pytz>=2020.1 in c:\\users\\acer swift\\anaconda3\\lib\\site-packages (from pandas>=1.0.0->swifter) (2021.3)\n",
      "Requirement already satisfied: locket in c:\\users\\acer swift\\anaconda3\\lib\\site-packages (from partd>=0.3.10->dask[dataframe]>=2.10.0->swifter) (0.2.1)\n",
      "Requirement already satisfied: wcwidth in c:\\users\\acer swift\\anaconda3\\lib\\site-packages (from prompt-toolkit!=3.0.0,!=3.0.1,<3.1.0,>=2.0.0->ipython>=4.0.0->ipywidgets>=7.0.0->swifter) (0.2.5)\n",
      "Requirement already satisfied: notebook>=4.4.1 in c:\\users\\acer swift\\anaconda3\\lib\\site-packages (from widgetsnbextension~=3.5.0->ipywidgets>=7.0.0->swifter) (6.4.8)\n",
      "Requirement already satisfied: jinja2 in c:\\users\\acer swift\\anaconda3\\lib\\site-packages (from notebook>=4.4.1->widgetsnbextension~=3.5.0->ipywidgets>=7.0.0->swifter) (2.11.3)\n",
      "Requirement already satisfied: nbconvert in c:\\users\\acer swift\\anaconda3\\lib\\site-packages (from notebook>=4.4.1->widgetsnbextension~=3.5.0->ipywidgets>=7.0.0->swifter) (6.4.4)\n",
      "Requirement already satisfied: prometheus-client in c:\\users\\acer swift\\anaconda3\\lib\\site-packages (from notebook>=4.4.1->widgetsnbextension~=3.5.0->ipywidgets>=7.0.0->swifter) (0.13.1)\n",
      "Requirement already satisfied: argon2-cffi in c:\\users\\acer swift\\anaconda3\\lib\\site-packages (from notebook>=4.4.1->widgetsnbextension~=3.5.0->ipywidgets>=7.0.0->swifter) (21.3.0)\n",
      "Requirement already satisfied: Send2Trash>=1.8.0 in c:\\users\\acer swift\\anaconda3\\lib\\site-packages (from notebook>=4.4.1->widgetsnbextension~=3.5.0->ipywidgets>=7.0.0->swifter) (1.8.0)\n",
      "Requirement already satisfied: terminado>=0.8.3 in c:\\users\\acer swift\\anaconda3\\lib\\site-packages (from notebook>=4.4.1->widgetsnbextension~=3.5.0->ipywidgets>=7.0.0->swifter) (0.13.1)\n",
      "Requirement already satisfied: pywinpty>=1.1.0 in c:\\users\\acer swift\\anaconda3\\lib\\site-packages (from terminado>=0.8.3->notebook>=4.4.1->widgetsnbextension~=3.5.0->ipywidgets>=7.0.0->swifter) (2.0.2)\n",
      "Requirement already satisfied: argon2-cffi-bindings in c:\\users\\acer swift\\anaconda3\\lib\\site-packages (from argon2-cffi->notebook>=4.4.1->widgetsnbextension~=3.5.0->ipywidgets>=7.0.0->swifter) (21.2.0)\n",
      "Requirement already satisfied: cffi>=1.0.1 in c:\\users\\acer swift\\anaconda3\\lib\\site-packages (from argon2-cffi-bindings->argon2-cffi->notebook>=4.4.1->widgetsnbextension~=3.5.0->ipywidgets>=7.0.0->swifter) (1.15.0)\n",
      "Requirement already satisfied: pycparser in c:\\users\\acer swift\\anaconda3\\lib\\site-packages (from cffi>=1.0.1->argon2-cffi-bindings->argon2-cffi->notebook>=4.4.1->widgetsnbextension~=3.5.0->ipywidgets>=7.0.0->swifter) (2.21)\n",
      "Requirement already satisfied: MarkupSafe>=0.23 in c:\\users\\acer swift\\anaconda3\\lib\\site-packages (from jinja2->notebook>=4.4.1->widgetsnbextension~=3.5.0->ipywidgets>=7.0.0->swifter) (2.0.1)\n",
      "Requirement already satisfied: defusedxml in c:\\users\\acer swift\\anaconda3\\lib\\site-packages (from nbconvert->notebook>=4.4.1->widgetsnbextension~=3.5.0->ipywidgets>=7.0.0->swifter) (0.7.1)\n",
      "Requirement already satisfied: testpath in c:\\users\\acer swift\\anaconda3\\lib\\site-packages (from nbconvert->notebook>=4.4.1->widgetsnbextension~=3.5.0->ipywidgets>=7.0.0->swifter) (0.5.0)\n",
      "Requirement already satisfied: entrypoints>=0.2.2 in c:\\users\\acer swift\\anaconda3\\lib\\site-packages (from nbconvert->notebook>=4.4.1->widgetsnbextension~=3.5.0->ipywidgets>=7.0.0->swifter) (0.4)\n",
      "Requirement already satisfied: mistune<2,>=0.8.1 in c:\\users\\acer swift\\anaconda3\\lib\\site-packages (from nbconvert->notebook>=4.4.1->widgetsnbextension~=3.5.0->ipywidgets>=7.0.0->swifter) (0.8.4)\n",
      "Requirement already satisfied: jupyterlab-pygments in c:\\users\\acer swift\\anaconda3\\lib\\site-packages (from nbconvert->notebook>=4.4.1->widgetsnbextension~=3.5.0->ipywidgets>=7.0.0->swifter) (0.1.2)\n",
      "Requirement already satisfied: pandocfilters>=1.4.1 in c:\\users\\acer swift\\anaconda3\\lib\\site-packages (from nbconvert->notebook>=4.4.1->widgetsnbextension~=3.5.0->ipywidgets>=7.0.0->swifter) (1.5.0)\n",
      "Requirement already satisfied: beautifulsoup4 in c:\\users\\acer swift\\anaconda3\\lib\\site-packages (from nbconvert->notebook>=4.4.1->widgetsnbextension~=3.5.0->ipywidgets>=7.0.0->swifter) (4.11.1)\n",
      "Requirement already satisfied: nbclient<0.6.0,>=0.5.0 in c:\\users\\acer swift\\anaconda3\\lib\\site-packages (from nbconvert->notebook>=4.4.1->widgetsnbextension~=3.5.0->ipywidgets>=7.0.0->swifter) (0.5.13)\n",
      "Requirement already satisfied: soupsieve>1.2 in c:\\users\\acer swift\\anaconda3\\lib\\site-packages (from beautifulsoup4->nbconvert->notebook>=4.4.1->widgetsnbextension~=3.5.0->ipywidgets>=7.0.0->swifter) (2.3.1)\n",
      "Requirement already satisfied: asttokens in c:\\users\\acer swift\\anaconda3\\lib\\site-packages (from stack-data->ipython>=4.0.0->ipywidgets>=7.0.0->swifter) (2.0.5)\n",
      "Requirement already satisfied: executing in c:\\users\\acer swift\\anaconda3\\lib\\site-packages (from stack-data->ipython>=4.0.0->ipywidgets>=7.0.0->swifter) (0.8.3)\n",
      "Requirement already satisfied: pure-eval in c:\\users\\acer swift\\anaconda3\\lib\\site-packages (from stack-data->ipython>=4.0.0->ipywidgets>=7.0.0->swifter) (0.2.2)\n"
     ]
    }
   ],
   "source": [
    "!pip install swifter"
   ]
  },
  {
   "cell_type": "code",
   "execution_count": 5,
   "id": "45ea2313",
   "metadata": {},
   "outputs": [],
   "source": [
    "import pandas as pd\n",
    "import numpy as np\n",
    "import nltk"
   ]
  },
  {
   "cell_type": "code",
   "execution_count": 6,
   "id": "7ad2ddd5",
   "metadata": {},
   "outputs": [],
   "source": [
    "dataSB = pd.read_csv('PB_ROBOT.csv')"
   ]
  },
  {
   "cell_type": "code",
   "execution_count": 7,
   "id": "a545ea2d",
   "metadata": {},
   "outputs": [
    {
     "data": {
      "text/html": [
       "<div>\n",
       "<style scoped>\n",
       "    .dataframe tbody tr th:only-of-type {\n",
       "        vertical-align: middle;\n",
       "    }\n",
       "\n",
       "    .dataframe tbody tr th {\n",
       "        vertical-align: top;\n",
       "    }\n",
       "\n",
       "    .dataframe thead th {\n",
       "        text-align: right;\n",
       "    }\n",
       "</style>\n",
       "<table border=\"1\" class=\"dataframe\">\n",
       "  <thead>\n",
       "    <tr style=\"text-align: right;\">\n",
       "      <th></th>\n",
       "      <th>username</th>\n",
       "      <th>bintang</th>\n",
       "      <th>review</th>\n",
       "    </tr>\n",
       "  </thead>\n",
       "  <tbody>\n",
       "    <tr>\n",
       "      <th>0</th>\n",
       "      <td>salonayu10</td>\n",
       "      <td>5</td>\n",
       "      <td>Alhamdulillah paketnya sudah sampai dgn aman\\n...</td>\n",
       "    </tr>\n",
       "    <tr>\n",
       "      <th>1</th>\n",
       "      <td>rubbyaqilla13</td>\n",
       "      <td>5</td>\n",
       "      <td>Alhamdulillah, pesanan saya sudah sampai nih k...</td>\n",
       "    </tr>\n",
       "    <tr>\n",
       "      <th>2</th>\n",
       "      <td>n*****1</td>\n",
       "      <td>2</td>\n",
       "      <td>pertama kali aku kasih bintang di bwh 4, tpi e...</td>\n",
       "    </tr>\n",
       "    <tr>\n",
       "      <th>3</th>\n",
       "      <td>erikatjhang</td>\n",
       "      <td>5</td>\n",
       "      <td>Pengiriman sangat cepat, padahal belinya pas l...</td>\n",
       "    </tr>\n",
       "    <tr>\n",
       "      <th>4</th>\n",
       "      <td>nandagiantari2002</td>\n",
       "      <td>5</td>\n",
       "      <td>Jika ingin menghubungi layanan PLN 123, kamu d...</td>\n",
       "    </tr>\n",
       "  </tbody>\n",
       "</table>\n",
       "</div>"
      ],
      "text/plain": [
       "            username  bintang  \\\n",
       "0         salonayu10        5   \n",
       "1      rubbyaqilla13        5   \n",
       "2            n*****1        2   \n",
       "3        erikatjhang        5   \n",
       "4  nandagiantari2002        5   \n",
       "\n",
       "                                              review  \n",
       "0  Alhamdulillah paketnya sudah sampai dgn aman\\n...  \n",
       "1  Alhamdulillah, pesanan saya sudah sampai nih k...  \n",
       "2  pertama kali aku kasih bintang di bwh 4, tpi e...  \n",
       "3  Pengiriman sangat cepat, padahal belinya pas l...  \n",
       "4  Jika ingin menghubungi layanan PLN 123, kamu d...  "
      ]
     },
     "execution_count": 7,
     "metadata": {},
     "output_type": "execute_result"
    }
   ],
   "source": [
    "dataSB.head()"
   ]
  },
  {
   "cell_type": "code",
   "execution_count": 8,
   "id": "e1394ee3",
   "metadata": {},
   "outputs": [
    {
     "data": {
      "text/html": [
       "<div>\n",
       "<style scoped>\n",
       "    .dataframe tbody tr th:only-of-type {\n",
       "        vertical-align: middle;\n",
       "    }\n",
       "\n",
       "    .dataframe tbody tr th {\n",
       "        vertical-align: top;\n",
       "    }\n",
       "\n",
       "    .dataframe thead th {\n",
       "        text-align: right;\n",
       "    }\n",
       "</style>\n",
       "<table border=\"1\" class=\"dataframe\">\n",
       "  <thead>\n",
       "    <tr style=\"text-align: right;\">\n",
       "      <th></th>\n",
       "      <th>username</th>\n",
       "      <th>review</th>\n",
       "    </tr>\n",
       "  </thead>\n",
       "  <tbody>\n",
       "    <tr>\n",
       "      <th>0</th>\n",
       "      <td>salonayu10</td>\n",
       "      <td>Alhamdulillah paketnya sudah sampai dgn aman\\n...</td>\n",
       "    </tr>\n",
       "    <tr>\n",
       "      <th>1</th>\n",
       "      <td>rubbyaqilla13</td>\n",
       "      <td>Alhamdulillah, pesanan saya sudah sampai nih k...</td>\n",
       "    </tr>\n",
       "    <tr>\n",
       "      <th>2</th>\n",
       "      <td>n*****1</td>\n",
       "      <td>pertama kali aku kasih bintang di bwh 4, tpi e...</td>\n",
       "    </tr>\n",
       "    <tr>\n",
       "      <th>3</th>\n",
       "      <td>erikatjhang</td>\n",
       "      <td>Pengiriman sangat cepat, padahal belinya pas l...</td>\n",
       "    </tr>\n",
       "    <tr>\n",
       "      <th>4</th>\n",
       "      <td>nandagiantari2002</td>\n",
       "      <td>Jika ingin menghubungi layanan PLN 123, kamu d...</td>\n",
       "    </tr>\n",
       "  </tbody>\n",
       "</table>\n",
       "</div>"
      ],
      "text/plain": [
       "            username                                             review\n",
       "0         salonayu10  Alhamdulillah paketnya sudah sampai dgn aman\\n...\n",
       "1      rubbyaqilla13  Alhamdulillah, pesanan saya sudah sampai nih k...\n",
       "2            n*****1  pertama kali aku kasih bintang di bwh 4, tpi e...\n",
       "3        erikatjhang  Pengiriman sangat cepat, padahal belinya pas l...\n",
       "4  nandagiantari2002  Jika ingin menghubungi layanan PLN 123, kamu d..."
      ]
     },
     "execution_count": 8,
     "metadata": {},
     "output_type": "execute_result"
    }
   ],
   "source": [
    "dataSB = dataSB.drop(columns=['bintang'])\n",
    "dataSB.head()"
   ]
  },
  {
   "cell_type": "code",
   "execution_count": 9,
   "id": "d4a85657",
   "metadata": {},
   "outputs": [
    {
     "name": "stdout",
     "output_type": "stream",
     "text": [
      "Case Folding Result : \n",
      "\n",
      "0    alhamdulillah paketnya sudah sampai dgn aman\\n...\n",
      "1    alhamdulillah, pesanan saya sudah sampai nih k...\n",
      "2    pertama kali aku kasih bintang di bwh 4, tpi e...\n",
      "3    pengiriman sangat cepat, padahal belinya pas l...\n",
      "4    jika ingin menghubungi layanan pln 123, kamu d...\n",
      "Name: review, dtype: object\n"
     ]
    }
   ],
   "source": [
    "# -------Case Folding-------\n",
    "# gunakan fungsi Series.str.lower() pada Pandas\n",
    "\n",
    "dataSB['review'] = dataSB['review'].str.lower()\n",
    "\n",
    "print('Case Folding Result : \\n')\n",
    "print(dataSB['review'].head(5))"
   ]
  },
  {
   "cell_type": "code",
   "execution_count": 10,
   "id": "2061074a",
   "metadata": {},
   "outputs": [],
   "source": [
    "import string \n",
    "import re #regex library\n",
    "\n",
    "# import word_tokenize & FreqDist from NLTK\n",
    "from nltk.tokenize import word_tokenize\n",
    "from nltk.probability import FreqDist"
   ]
  },
  {
   "cell_type": "code",
   "execution_count": 11,
   "id": "816e7190",
   "metadata": {},
   "outputs": [],
   "source": [
    "dataSB['review'] = dataSB['review'].astype(str)"
   ]
  },
  {
   "cell_type": "code",
   "execution_count": 12,
   "id": "c1e51029",
   "metadata": {},
   "outputs": [
    {
     "name": "stderr",
     "output_type": "stream",
     "text": [
      "[nltk_data] Downloading package punkt to C:\\Users\\ACER\n",
      "[nltk_data]     SWIFT\\AppData\\Roaming\\nltk_data...\n",
      "[nltk_data]   Package punkt is already up-to-date!\n"
     ]
    },
    {
     "name": "stdout",
     "output_type": "stream",
     "text": [
      "Tokenizing Result : \n",
      "\n",
      "0    [alhamdulillah, paketnya, sudah, sampai, dgn, ...\n",
      "1    [alhamdulillah, pesanan, saya, sudah, sampai, ...\n",
      "2    [pertama, kali, aku, kasih, bintang, di, bwh, ...\n",
      "3    [pengiriman, sangat, cepat, padahal, belinya, ...\n",
      "4    [jika, ingin, menghubungi, layanan, pln, kamu,...\n",
      "Name: textdata_tokens, dtype: object\n"
     ]
    }
   ],
   "source": [
    "#------------ Tokenizing --------------\n",
    "\n",
    "nltk.download('punkt')\n",
    "\n",
    "def remove_tweet_special(text):\n",
    "    # remove tab, new line, ans back slice\n",
    "    text = str(text)\n",
    "    text = text.replace('\\\\t',\" \").replace('\\\\n',\" \").replace('\\\\',\" \")\n",
    "    \n",
    "    # remove non ASCII (emoticon, chinese word, .etc)\n",
    "    text = text.encode('ascii', 'replace').decode('ascii')\n",
    "    \n",
    "    # remove mention, link, hastag\n",
    "    text = ' '.join(re.sub(\"([@#][A-Za-z0-9]+)|(\\w+:\\/\\/\\S+)\",\" \", text).split())\n",
    "    \n",
    "    # remove incomplete URL\n",
    "    return text.replace(\"https://\", \" \").replace(\"https://\", \" \")\n",
    "\n",
    "dataSB['review'] = dataSB['review'].apply(remove_tweet_special)\n",
    "\n",
    "# remove number\n",
    "def remove_number(text):\n",
    "    return re.sub(r\"\\d+\", \" \", text)\n",
    "\n",
    "dataSB['review'] = dataSB['review'].apply(remove_number)\n",
    "\n",
    "# remove punctuation\n",
    "def remove_punctuation(text):\n",
    "    return text.translate(str.maketrans(\"\",\"\",string.punctuation))\n",
    "\n",
    "dataSB['review'] = dataSB['review'].apply(remove_punctuation)\n",
    "\n",
    "# remove whitespace leading & trailing\n",
    "def remove_whitespace_LT(text):\n",
    "    return text.strip()\n",
    "\n",
    "dataSB['review'] = dataSB['review'].apply(remove_whitespace_LT)\n",
    "\n",
    "# remove multiple whitespace into single whitespace\n",
    "def remove_whitespace_multiple(text):\n",
    "    return re.sub(\"\\s+\",' ', text)\n",
    "\n",
    "dataSB['review'] = dataSB['review'].apply(remove_whitespace_multiple)\n",
    "\n",
    "# remove single char\n",
    "def remove_singl_char(text):\n",
    "    return re.sub(\"\\b[a-zA-Z]\\b\",\" \", text)\n",
    "\n",
    "dataSB['review'] = dataSB['review'].apply(remove_singl_char)\n",
    "\n",
    "# NLTK word tokenize\n",
    "def word_tokenize_wrapper(text):\n",
    "    return word_tokenize(text)\n",
    "\n",
    "dataSB['textdata_tokens'] = dataSB['review'].apply(word_tokenize_wrapper)\n",
    "\n",
    "print('Tokenizing Result : \\n')\n",
    "print(dataSB['textdata_tokens'].head())"
   ]
  },
  {
   "cell_type": "code",
   "execution_count": 13,
   "id": "539b535d",
   "metadata": {},
   "outputs": [
    {
     "name": "stdout",
     "output_type": "stream",
     "text": [
      "Frequency Tokens : \n",
      "\n",
      "0    [(dan, 3), (aman, 2), (alhamdulillah, 1), (pak...\n",
      "1    [(saya, 2), (sudah, 2), (sampai, 2), (dan, 2),...\n",
      "2    [(yg, 3), (aku, 2), (di, 2), (dan, 2), (lampu,...\n",
      "3    [(dan, 3), (dengan, 3), (aman, 2), (pengiriman...\n",
      "4    [(telepon, 3), (layanan, 2), (pln, 2), (kamu, ...\n",
      "Name: textdata_tokens_fdist, dtype: object\n"
     ]
    }
   ],
   "source": [
    "# NLTK calc frequency distribution\n",
    "def freqDist_wrapper(text):\n",
    "    return FreqDist(text)\n",
    "\n",
    "dataSB['textdata_tokens_fdist'] = dataSB['textdata_tokens'].apply(freqDist_wrapper)\n",
    "\n",
    "print('Frequency Tokens : \\n')\n",
    "print(dataSB['textdata_tokens_fdist'].head().apply(lambda x : x.most_common()))"
   ]
  },
  {
   "cell_type": "code",
   "execution_count": 14,
   "id": "b03be204",
   "metadata": {},
   "outputs": [
    {
     "name": "stderr",
     "output_type": "stream",
     "text": [
      "[nltk_data] Downloading package stopwords to C:\\Users\\ACER\n",
      "[nltk_data]     SWIFT\\AppData\\Roaming\\nltk_data...\n",
      "[nltk_data]   Package stopwords is already up-to-date!\n"
     ]
    },
    {
     "data": {
      "text/plain": [
       "True"
      ]
     },
     "execution_count": 14,
     "metadata": {},
     "output_type": "execute_result"
    }
   ],
   "source": [
    "nltk.download('stopwords')"
   ]
  },
  {
   "cell_type": "code",
   "execution_count": 15,
   "id": "b1b7fb65",
   "metadata": {},
   "outputs": [
    {
     "name": "stdout",
     "output_type": "stream",
     "text": [
      "0    [alhamdulillah, paketnya, aman, prodak, asli, ...\n",
      "1    [alhamdulillah, pesanan, ka, sesuai, pesananpe...\n",
      "2    [kali, kasih, bintang, bwh, tpi, emang, bener,...\n",
      "3    [pengiriman, cepat, belinya, pas, event, packa...\n",
      "4    [menghubungi, layanan, pln, saluran, telepon, ...\n",
      "Name: textdata_tokens_WSW, dtype: object\n"
     ]
    }
   ],
   "source": [
    "from nltk.corpus import stopwords\n",
    "\n",
    "\n",
    "# ------------- get stopword from NLTK stopword --------------------\n",
    "# get stopword indonesia\n",
    "list_stopwords = stopwords.words('indonesian')\n",
    "\n",
    "\n",
    "# ------------- manualy add stopword -------------------------------\n",
    "# append additional stopword\n",
    "list_stopwords.extend([\"yg\",\"dg\",\"rt\",\"dgn\",\"ny\",\"d\",\"klo\",\n",
    "                      'kalo','amp','biar','bikin','bilang'\n",
    "                      'gak','ga','krn','nya','nih','sih'\n",
    "                      'si','tau','tdk','tuh','utk','ya'\n",
    "                      'jd','jgn','sdh','aja','n','t'\n",
    "                      'nyg','hehe','pen','u','nan','loh','rt',\n",
    "                      '&amp','yah','bisnis','pandemi','indonesia'])\n",
    "\n",
    "# convert list to dictionary\n",
    "list_stopwords = set(list_stopwords)\n",
    "\n",
    "# remove stopwords pada list token\n",
    "def stopwords_removal(words):\n",
    "    return [word for word in words if word not in list_stopwords]\n",
    "\n",
    "dataSB['textdata_tokens_WSW'] = dataSB['textdata_tokens'].apply(stopwords_removal)\n",
    "\n",
    "print(dataSB['textdata_tokens_WSW'].head())"
   ]
  },
  {
   "cell_type": "code",
   "execution_count": 16,
   "id": "cda55d6c",
   "metadata": {},
   "outputs": [
    {
     "name": "stderr",
     "output_type": "stream",
     "text": [
      "\n",
      "Usage:   \n",
      "  pip install [options] <requirement specifier> [package-index-options] ...\n",
      "  pip install [options] -r <requirements file> [package-index-options] ...\n",
      "  pip install [options] [-e] <vcs project url> ...\n",
      "  pip install [options] [-e] <local project path> ...\n",
      "  pip install [options] <archive url/path> ...\n",
      "\n",
      "no such option: --id\n"
     ]
    }
   ],
   "source": [
    "# import file xlsx untuk proses normalisasi\n",
    "!pip install gdown --id 139"
   ]
  },
  {
   "cell_type": "code",
   "execution_count": 17,
   "id": "e6143b0e",
   "metadata": {},
   "outputs": [
    {
     "data": {
      "text/plain": [
       "0    [alhamdulillah, paketnya, aman, prodak, asli, ...\n",
       "1    [alhamdulillah, pesanan, ka, sesuai, pesananpe...\n",
       "2    [kali, kasih, bintang, bwh, tpi, emang, bener,...\n",
       "3    [pengiriman, cepat, belinya, pas, event, packa...\n",
       "4    [menghubungi, layanan, pln, saluran, telepon, ...\n",
       "5    [alhamdulillah, berfungsi, baikk, garansinya, ...\n",
       "6    [produknya, bagus, beli, langsung, ofc, storen...\n",
       "7    [maaf, diriview, packing, aman, produknya, bag...\n",
       "8    [maaf, videonya, powerbanknya, bagus, cepat, t...\n",
       "9    [sukaa, warnanya, semoga, bertahan, yaa, semog...\n",
       "Name: textdata_normalized, dtype: object"
      ]
     },
     "execution_count": 17,
     "metadata": {},
     "output_type": "execute_result"
    }
   ],
   "source": [
    "normalizad_word = pd.read_excel('dataU.xlsx') #lokasi file\n",
    "\n",
    "normalizad_word_dict = {}\n",
    "\n",
    "for index, row in normalizad_word.iterrows():\n",
    "    if row[0] not in normalizad_word_dict:\n",
    "        normalizad_word_dict[row[0]] = row[1]\n",
    "        \n",
    "def normalizad_term(document):\n",
    "    return [normalizad_word_dict[term] if term in normalizad_word_dict else term for term in document]\n",
    "\n",
    "dataSB['textdata_normalized'] = dataSB['textdata_tokens_WSW'].apply(normalizad_term)\n",
    "\n",
    "dataSB['textdata_normalized'].head(10)"
   ]
  },
  {
   "cell_type": "code",
   "execution_count": 18,
   "id": "b698dc26",
   "metadata": {},
   "outputs": [
    {
     "name": "stdout",
     "output_type": "stream",
     "text": [
      "4943\n"
     ]
    }
   ],
   "source": [
    "# import Sastrawi package \n",
    "from Sastrawi.Stemmer.StemmerFactory import StemmerFactory\n",
    "import swifter\n",
    "\n",
    "# create stemmer\n",
    "factory = StemmerFactory()\n",
    "stemmer = factory.create_stemmer()\n",
    "\n",
    "# stemmed\n",
    "def stemmed_wrapper(term):\n",
    "    return stemmer.stem(term)\n",
    "\n",
    "term_dict = {}\n",
    "\n",
    "for document in dataSB['textdata_normalized']:\n",
    "    for term in document:\n",
    "        if term not in term_dict:\n",
    "            term_dict[term] = ' '\n",
    "            \n",
    "print(len(term_dict))"
   ]
  },
  {
   "cell_type": "code",
   "execution_count": 19,
   "id": "d4d796f7",
   "metadata": {},
   "outputs": [],
   "source": [
    "for term in term_dict:\n",
    "    term_dict[term] = stemmed_wrapper(term)\n",
    "    \n",
    "    # untuk melihat hasilnya silahkan jalankan baris dibawah ini\n",
    "    # print(term,\":\", term_dict[term])"
   ]
  },
  {
   "cell_type": "code",
   "execution_count": 20,
   "id": "7c9e5a80",
   "metadata": {},
   "outputs": [
    {
     "data": {
      "application/vnd.jupyter.widget-view+json": {
       "model_id": "8c6a15d1734846108defd8129242ab6e",
       "version_major": 2,
       "version_minor": 0
      },
      "text/plain": [
       "Pandas Apply:   0%|          | 0/3003 [00:00<?, ?it/s]"
      ]
     },
     "metadata": {},
     "output_type": "display_data"
    },
    {
     "name": "stdout",
     "output_type": "stream",
     "text": [
      "0       [alhamdulillah, paket, aman, prodak, asli, ori...\n",
      "1       [alhamdulillah, pesan, ka, sesuai, pesananpeng...\n",
      "2       [kali, kasih, bintang, bwh, tpi, emang, bener,...\n",
      "3       [kirim, cepat, beli, pas, event, packagingnya,...\n",
      "4       [hubung, layan, pln, salur, telepon, tau, hand...\n",
      "                              ...                        \n",
      "2998                           [kirim, cepat, moga, awet]\n",
      "2999      [produk, oke, banget, slim, warna, hijau, mate]\n",
      "3000                                                   []\n",
      "3001    [powerbank, bagus, tidak, tebel, banget, tidak...\n",
      "3002    [paham, erti, bioteknologi, istilah, muncul, a...\n",
      "Name: textdata_tokens_stemmed, Length: 3003, dtype: object\n"
     ]
    }
   ],
   "source": [
    "# apply stemmed term to dataframe\n",
    "def get_stemmed_term(document):\n",
    "    return [term_dict[term] for term in document]\n",
    "\n",
    "dataSB['textdata_tokens_stemmed'] = dataSB['textdata_normalized'].swifter.apply(get_stemmed_term)\n",
    "\n",
    "print(dataSB['textdata_tokens_stemmed'])"
   ]
  },
  {
   "cell_type": "code",
   "execution_count": 21,
   "id": "0003daed",
   "metadata": {},
   "outputs": [
    {
     "name": "stdout",
     "output_type": "stream",
     "text": [
      "0    [alhamdulillah, paket, aman, prodak, asli, ori...\n",
      "1    [alhamdulillah, pesan, ka, sesuai, pesananpeng...\n",
      "2    [kali, kasih, bintang, bwh, tpi, emang, bener,...\n",
      "3    [kirim, cepat, beli, pas, event, packagingnya,...\n",
      "4    [hubung, layan, pln, salur, telepon, tau, hand...\n",
      "Name: textdata_tokens_stemmed2, dtype: object\n"
     ]
    }
   ],
   "source": [
    "#stopwords #2\n",
    "\n",
    "from nltk.corpus  import stopwords\n",
    "\n",
    "#.......................get stopworods from nLTK stopwords......................\n",
    "#get stopwords indonesia\n",
    "list_stopwords = stopwords.words('indonesian')\n",
    "\n",
    "#.......................manualy add stopword....................................\n",
    "#append additional stopwords \n",
    "list_stopwords.extend([\"sampai\",\"dengan\",\"rapih\",\"terimakasih\",\"seller\"])\n",
    "\n",
    "#convert list to dictionary \n",
    "list_stopwords = set (list_stopwords)\n",
    "\n",
    "#remove stopword pada list token\n",
    "def stopwords_removal(words):\n",
    "    return [word for word in words if word not in list_stopwords]\n",
    "\n",
    "dataSB['textdata_tokens_stemmed2'] = dataSB ['textdata_tokens_stemmed'].apply (stopwords_removal)\n",
    "\n",
    "print(dataSB['textdata_tokens_stemmed2'].head())"
   ]
  },
  {
   "cell_type": "code",
   "execution_count": 22,
   "id": "e01da064",
   "metadata": {},
   "outputs": [
    {
     "data": {
      "text/plain": [
       "['paham', 'pengertian', 'bioteknologi', 'istilah', 'muncul']"
      ]
     },
     "execution_count": 22,
     "metadata": {},
     "output_type": "execute_result"
    }
   ],
   "source": [
    "for i in range(len(dataSB)):\n",
    "    a = dataSB.iloc[i][6]\n",
    "    document.append(a)\n",
    "    \n",
    "document[0:5]"
   ]
  },
  {
   "cell_type": "code",
   "execution_count": 23,
   "id": "938761ee",
   "metadata": {},
   "outputs": [
    {
     "data": {
      "text/plain": [
       "0       [alhamdulillah, paket, aman, prodak, asli, ori...\n",
       "1       [alhamdulillah, pesan, ka, sesuai, pesananpeng...\n",
       "2       [kali, kasih, bintang, bwh, tpi, emang, bener,...\n",
       "3       [kirim, cepat, beli, pas, event, packagingnya,...\n",
       "4       [hubung, layan, pln, salur, telepon, tau, hand...\n",
       "                              ...                        \n",
       "2998                           [kirim, cepat, moga, awet]\n",
       "2999      [produk, oke, banget, slim, warna, hijau, mate]\n",
       "3000                                                   []\n",
       "3001    [powerbank, bagus, tebel, banget, ngehabisin, ...\n",
       "3002    [paham, erti, bioteknologi, istilah, muncul, a...\n",
       "Name: textdata_tokens_stemmed2, Length: 3003, dtype: object"
      ]
     },
     "execution_count": 23,
     "metadata": {},
     "output_type": "execute_result"
    }
   ],
   "source": [
    "doc_clean = dataSB['textdata_tokens_stemmed2']\n",
    "doc_clean"
   ]
  },
  {
   "cell_type": "code",
   "execution_count": 41,
   "id": "7681f8fe",
   "metadata": {},
   "outputs": [
    {
     "name": "stdout",
     "output_type": "stream",
     "text": [
      "Requirement already satisfied: numpy==1.24.1 in c:\\users\\acer swift\\anaconda3\\lib\\site-packages (1.24.1)\n"
     ]
    }
   ],
   "source": [
    "!pip install numpy==1.24.1"
   ]
  },
  {
   "cell_type": "markdown",
   "id": "e716ccf0",
   "metadata": {},
   "source": [
    "## LDA"
   ]
  },
  {
   "cell_type": "code",
   "execution_count": 42,
   "id": "05ee99e9",
   "metadata": {},
   "outputs": [
    {
     "name": "stdout",
     "output_type": "stream",
     "text": [
      "Dictionary<4420 unique tokens: ['alhamdulillah', 'aman', 'an', 'asli', 'awer']...>\n"
     ]
    }
   ],
   "source": [
    "import pandas as pd\n",
    "import numpy as np\n",
    "import gensim\n",
    "from gensim import corpora\n",
    "\n",
    "dictionary = corpora.Dictionary(doc_clean)\n",
    "print(dictionary)\n",
    "\n",
    "doc_term_matrix = [dictionary.doc2bow(doc) for doc in doc_clean]"
   ]
  },
  {
   "cell_type": "code",
   "execution_count": 43,
   "id": "8b921c45",
   "metadata": {},
   "outputs": [],
   "source": [
    "# Creating the object for LDA model using gensim library\n",
    "Lda = gensim.models.ldamodel.LdaModel\n",
    "\n",
    "total_topics = 3 # jumlah topik yang akan di extract\n",
    "number_words = 10 # jumlah kata per topik"
   ]
  },
  {
   "cell_type": "code",
   "execution_count": 44,
   "id": "559cd754",
   "metadata": {},
   "outputs": [
    {
     "data": {
      "text/plain": [
       "[(0,\n",
       "  '0.020*\"bgt\" + 0.018*\"warna\" + 0.008*\"pas\" + 0.007*\"kirim\" + 0.007*\"diskon\" + 0.006*\"dapet\" + 0.006*\"sale\" + 0.006*\"tp\" + 0.006*\"putih\" + 0.005*\"bangett\"'),\n",
       " (1,\n",
       "  '0.061*\"moga\" + 0.054*\"awet\" + 0.038*\"bagus\" + 0.027*\"banget\" + 0.023*\"barang\" + 0.017*\"coba\" + 0.015*\"warna\" + 0.013*\"fungsi\" + 0.013*\"ya\" + 0.013*\"kirim\"'),\n",
       " (2,\n",
       "  '0.067*\"barang\" + 0.058*\"kirim\" + 0.053*\"produk\" + 0.050*\"cepat\" + 0.031*\"sesuai\" + 0.029*\"bagus\" + 0.024*\"kualitas\" + 0.021*\"aman\" + 0.020*\"original\" + 0.020*\"harga\"')]"
      ]
     },
     "execution_count": 44,
     "metadata": {},
     "output_type": "execute_result"
    }
   ],
   "source": [
    "# Running and Training LDA model on the document term matrix\n",
    "lda_model = Lda(doc_term_matrix, num_topics=total_topics, id2word = dictionary, passes = 50)\n",
    "\n",
    "lda_model.show_topics(num_topics=total_topics, num_words=number_words)"
   ]
  },
  {
   "cell_type": "code",
   "execution_count": 45,
   "id": "1fe2af64",
   "metadata": {},
   "outputs": [
    {
     "name": "stdout",
     "output_type": "stream",
     "text": [
      "        word  topic_id  importance  word_count\n",
      "0        bgt         0    0.019701         157\n",
      "1      warna         0    0.017972         357\n",
      "2        pas         0    0.008067         134\n",
      "3      kirim         0    0.006665         935\n",
      "4     diskon         0    0.006569          42\n",
      "5      dapet         0    0.005990          79\n",
      "6       sale         0    0.005947          52\n",
      "7         tp         0    0.005821          89\n",
      "8      putih         0    0.005812          41\n",
      "9    bangett         0    0.005499          32\n",
      "10      moga         1    0.060799         856\n",
      "11      awet         1    0.053893         771\n",
      "12     bagus         1    0.038019         927\n",
      "13    banget         1    0.026714         415\n",
      "14    barang         1    0.022532        1157\n",
      "15      coba         1    0.017139         260\n",
      "16     warna         1    0.015028         357\n",
      "17    fungsi         1    0.013088         302\n",
      "18        ya         1    0.012542         230\n",
      "19     kirim         1    0.012516         935\n",
      "20    barang         2    0.066591        1157\n",
      "21     kirim         2    0.057765         935\n",
      "22    produk         2    0.053201         664\n",
      "23     cepat         2    0.049686         618\n",
      "24    sesuai         2    0.030888         465\n",
      "25     bagus         2    0.029489         927\n",
      "26  kualitas         2    0.024446         299\n",
      "27      aman         2    0.020852         395\n",
      "28  original         2    0.020420         261\n",
      "29     harga         2    0.019858         334\n"
     ]
    }
   ],
   "source": [
    "# word Count of Topic Keyword\n",
    "\n",
    "from collections import Counter\n",
    "topics = lda_model.show_topics(formatted=False)\n",
    "data_flat = [w for w_list in doc_clean for w in w_list]\n",
    "counter = Counter(data_flat)\n",
    "\n",
    "out = []\n",
    "for i, topic in topics:\n",
    "    for word, weight in topic:\n",
    "        out.append([word, i, weight, counter[word]])\n",
    "        \n",
    "df_imp_wcount = pd.DataFrame(out, columns = ['word', 'topic_id', 'importance', 'word_count'])\n",
    "print(df_imp_wcount)"
   ]
  },
  {
   "cell_type": "code",
   "execution_count": 46,
   "id": "1933930a",
   "metadata": {},
   "outputs": [],
   "source": [
    "# simpan \n",
    "df_imp_wcount.to_csv('id_imp_wcount.csv')"
   ]
  },
  {
   "cell_type": "code",
   "execution_count": 47,
   "id": "bc939762",
   "metadata": {},
   "outputs": [],
   "source": [
    "# Dominant topic and its percentage contribution in each topic\n",
    "def format_topics_sentences(ldamodel=None, corpus=doc_term_matrix, text=document):\n",
    "    # Init output\n",
    "    sent_topics_df = pd.DataFrame()\n",
    "\n",
    "    # Get main topic in each document\n",
    "    for i, row_list in enumerate(ldamodel[corpus]):\n",
    "        row = row_list[0] if ldmodel.per_word_topics else row_list \n",
    "        #print(row)\n",
    "        row = sorted(row,key=lambda x:(x[1]), reverse=True)\n",
    "        # Get the dominant topic, perc contribution and keywords for each document \n",
    "        for j, (topic_num, prop_topic) in enumerate (row):\n",
    "            if j ==0: # => dominant topic \n",
    "                wp = ldmodel.show_topic (topic_num)\n",
    "                topic_keywords = \", \".join ([word for word, prop in wp])\n",
    "                sent_topics_df = sent_topics_df. append(pd.series([int(topic_num), round (prop_topic,4), topic_keywords]), ignore_index=true)\n",
    "            else:\n",
    "                break\n",
    "    sent_topics_df.colums=['Dominant_topics','Perc_Contribution', 'Topic_keywords']\n",
    "\n",
    "    # add original text to the end of the output \n",
    "    contents=pd.series (texts)\n",
    "    sent_topic_df= pd.concat ([sent_topic_df, contents], axis=1)\n",
    "    return(sent_topics_df)"
   ]
  },
  {
   "cell_type": "code",
   "execution_count": 48,
   "id": "64a9e154",
   "metadata": {},
   "outputs": [
    {
     "ename": "TypeError",
     "evalue": "format_topics_sentences() got an unexpected keyword argument 'texts'",
     "output_type": "error",
     "traceback": [
      "\u001b[1;31m---------------------------------------------------------------------------\u001b[0m",
      "\u001b[1;31mTypeError\u001b[0m                                 Traceback (most recent call last)",
      "Input \u001b[1;32mIn [48]\u001b[0m, in \u001b[0;36m<cell line: 1>\u001b[1;34m()\u001b[0m\n\u001b[1;32m----> 1\u001b[0m df_topics_sents_keywords \u001b[38;5;241m=\u001b[39m \u001b[43mformat_topics_sentences\u001b[49m\u001b[43m(\u001b[49m\u001b[43mldamodel\u001b[49m\u001b[38;5;241;43m=\u001b[39;49m\u001b[43mlda_model\u001b[49m\u001b[43m,\u001b[49m\u001b[43m \u001b[49m\u001b[43mcorpus\u001b[49m\u001b[38;5;241;43m=\u001b[39;49m\u001b[43mdoc_term_matrix\u001b[49m\u001b[43m,\u001b[49m\u001b[43m \u001b[49m\u001b[43mtexts\u001b[49m\u001b[38;5;241;43m=\u001b[39;49m\u001b[43mdoc_clean\u001b[49m\u001b[43m)\u001b[49m\n\u001b[0;32m      3\u001b[0m \u001b[38;5;66;03m# Format\u001b[39;00m\n\u001b[0;32m      4\u001b[0m df_dominant_topic \u001b[38;5;241m=\u001b[39m df_topic_sents_keywwords\u001b[38;5;241m.\u001b[39mreset_index()\n",
      "\u001b[1;31mTypeError\u001b[0m: format_topics_sentences() got an unexpected keyword argument 'texts'"
     ]
    }
   ],
   "source": [
    "df_topics_sents_keywords = format_topics_sentences(ldamodel=lda_model, corpus=doc_term_matrix, texts=doc_clean)\n",
    "\n",
    "# Format\n",
    "df_dominant_topic = df_topic_sents_keywwords.reset_index()\n",
    "df_dominant_topic.column = ['Document_No', 'Dominant_Topic', 'Topic_Perc_Contrib', 'Keywords', 'Text']\n",
    "print(df_dominant_topic.head(10))"
   ]
  },
  {
   "cell_type": "code",
   "execution_count": 49,
   "id": "a4b726e9",
   "metadata": {},
   "outputs": [
    {
     "ename": "NameError",
     "evalue": "name 'df_dominant_topic' is not defined",
     "output_type": "error",
     "traceback": [
      "\u001b[1;31m---------------------------------------------------------------------------\u001b[0m",
      "\u001b[1;31mNameError\u001b[0m                                 Traceback (most recent call last)",
      "Input \u001b[1;32mIn [49]\u001b[0m, in \u001b[0;36m<cell line: 2>\u001b[1;34m()\u001b[0m\n\u001b[0;32m      1\u001b[0m \u001b[38;5;66;03m# simpan \u001b[39;00m\n\u001b[1;32m----> 2\u001b[0m \u001b[43mdf_dominant_topic\u001b[49m\u001b[38;5;241m.\u001b[39mto_csv(\u001b[38;5;124m'\u001b[39m\u001b[38;5;124mdf_dominant_topic.csv\u001b[39m\u001b[38;5;124m'\u001b[39m)\n",
      "\u001b[1;31mNameError\u001b[0m: name 'df_dominant_topic' is not defined"
     ]
    }
   ],
   "source": [
    "# simpan \n",
    "df_dominant_topic.to_csv('df_dominant_topic.csv')"
   ]
  },
  {
   "cell_type": "code",
   "execution_count": 50,
   "id": "7b6e31c5",
   "metadata": {},
   "outputs": [],
   "source": [
    "import pyLDAvis.gensim\n",
    "import pickle\n",
    "import pyLDAvis\n",
    "# Visualize the topic\n",
    "pyLDAvis.enable_notebook()"
   ]
  },
  {
   "cell_type": "code",
   "execution_count": 51,
   "id": "ee6726cc",
   "metadata": {},
   "outputs": [],
   "source": [
    "import os\n",
    "LDAvis_data_filepath = os.path.join('ldavis_prepared_'+str(total_topics))"
   ]
  },
  {
   "cell_type": "code",
   "execution_count": 52,
   "id": "523798cf",
   "metadata": {},
   "outputs": [],
   "source": [
    "corpus = [dictionary.doc2bow(text) for text in doc_clean]"
   ]
  },
  {
   "cell_type": "code",
   "execution_count": 53,
   "id": "3d96ac5a",
   "metadata": {},
   "outputs": [],
   "source": [
    "# proses ini mungki agak lama\n",
    "if 1 == 1:\n",
    "    LDAvis_prepared = pyLDAvis.gensim.prepare(lda_model, corpus, dictionary)\n",
    "    with open(LDAvis_data_filepath, 'wb') as f:\n",
    "        pickle.dump(LDAvis_prepared, f)"
   ]
  },
  {
   "cell_type": "code",
   "execution_count": 54,
   "id": "2d5e5e67",
   "metadata": {},
   "outputs": [],
   "source": [
    "# load the pre-prepared pyLDAvis data from disk\n",
    "with open(LDAvis_data_filepath, 'rb') as f:\n",
    "    LDAvis_prepared = pickle.load(f)"
   ]
  },
  {
   "cell_type": "code",
   "execution_count": 55,
   "id": "32352074",
   "metadata": {},
   "outputs": [],
   "source": [
    "pyLDAvis.save_html(LDAvis_prepared, 'ldavis_prepared_'+str(total_topics) + '.html')"
   ]
  },
  {
   "cell_type": "code",
   "execution_count": 40,
   "id": "0d08f965",
   "metadata": {},
   "outputs": [
    {
     "data": {
      "text/html": [
       "\n",
       "<link rel=\"stylesheet\" type=\"text/css\" href=\"https://cdn.jsdelivr.net/gh/bmabey/pyLDAvis/pyLDAvis/js/ldavis.v1.0.0.css\">\n",
       "\n",
       "\n",
       "<div id=\"ldavis_el1138822703161198721864601867\"></div>\n",
       "<script type=\"text/javascript\">\n",
       "\n",
       "var ldavis_el1138822703161198721864601867_data = {\"mdsDat\": {\"x\": [-0.1293925360879042, -0.10464739760848367, 0.23403993369638793], \"y\": [0.12855602191615195, -0.13794856858278573, 0.009392546666633568], \"topics\": [1, 2, 3], \"cluster\": [1, 1, 1], \"Freq\": [46.0370991628764, 41.01023029377156, 12.952670543352033]}, \"tinfo\": {\"Term\": [\"produk\", \"moga\", \"awet\", \"harga\", \"kualitas\", \"terima\", \"original\", \"barang\", \"coba\", \"cepat\", \"kirim\", \"kasih\", \"pesan\", \"alhamdulillah\", \"fungsi\", \"warna\", \"thank\", \"bgt\", \"mantap\", \"beli\", \"you\", \"sampe\", \"paket\", \"selamat\", \"pokok\", \"murah\", \"respon\", \"bawa\", \"mudah\", \"jual\", \"terima\", \"kasih\", \"pesan\", \"coba\", \"paket\", \"alhamdulillah\", \"sampe\", \"mudah\", \"kak\", \"kabel\", \"wrap\", \"bubble\", \"kondisi\", \"blm\", \"cacat\", \"darat\", \"lecet\", \"c\", \"next\", \"mulus\", \"kemas\", \"segel\", \"order\", \"kendala\", \"tgl\", \"type\", \"charger\", \"aamiin\", \"usb\", \"selamat\", \"moga\", \"fungsi\", \"awet\", \"yaaa\", \"an\", \"dateng\", \"barang\", \"makasih\", \"ya\", \"aman\", \"udah\", \"sesuai\", \"bank\", \"power\", \"bagus\", \"kirim\", \"sih\", \"packing\", \"tahan\", \"cepat\", \"emas\", \"ok\", \"lumayan\", \"warna\", \"banget\", \"powerbank\", \"produk\", \"harga\", \"kualitas\", \"original\", \"mantap\", \"bgt\", \"pokok\", \"respon\", \"murah\", \"jual\", \"ramah\", \"jangkau\", \"nyesel\", \"sale\", \"belanja\", \"good\", \"flash\", \"official\", \"fast\", \"merk\", \"mantul\", \"ragu\", \"full\", \"charge\", \"poko\", \"store\", \"kemaren\", \"recomended\", \"jamin\", \"segitu\", \"keren\", \"beli\", \"diskon\", \"robot\", \"cepat\", \"pas\", \"banget\", \"kirim\", \"deh\", \"bagus\", \"oke\", \"emas\", \"sesuai\", \"cepet\", \"barang\", \"suka\", \"warna\", \"lumayan\", \"aman\", \"packing\", \"awet\", \"thank\", \"you\", \"bawa\", \"bagusss\", \"bangett\", \"mantab\", \"bagussss\", \"anjay\", \"love\", \"nyaa\", \"bangettttt\", \"yaaaa\", \"bgtt\", \"and\", \"cepett\", \"bagusssssssssssssssssssssssss\", \"bagusssss\", \"terimakasihh\", \"kosong\", \"hati\", \"produkkk\", \"baikkkk\", \"youu\", \"i\", \"awettttt\", \"lucuu\", \"makasihhh\", \"lilac\", \"s\", \"milik\", \"ringan\", \"bangetttttt\", \"jugaa\", \"ungu\", \"eh\", \"neng\", \"warna\", \"baguss\", \"the\", \"awett\", \"powerbanknya\", \"berat\", \"cakep\", \"putih\", \"it\", \"bagus\", \"fungsi\", \"suka\", \"gk\", \"powerbank\", \"banget\"], \"Freq\": [617.0, 796.0, 705.0, 297.0, 284.0, 277.0, 237.0, 1066.0, 224.0, 590.0, 869.0, 195.0, 195.0, 185.0, 264.0, 286.0, 60.0, 133.0, 128.0, 199.0, 48.0, 126.0, 116.0, 144.0, 97.0, 93.0, 91.0, 37.0, 99.0, 84.0, 277.05152179411965, 195.32809733649327, 194.6188914637805, 224.00784949602215, 115.5827794863459, 183.90946373848038, 125.82551546170978, 98.79911457229747, 57.56758036973405, 57.15759334360441, 46.935022434057316, 44.730017566325856, 40.71513772411748, 38.01078716013499, 37.14179091858999, 32.06178163327914, 32.264994195159574, 31.602680354433566, 29.541564278916542, 26.037596791854586, 28.634999808644224, 26.04123964654992, 57.58156766192372, 22.48149600648605, 22.48919441401214, 20.715073383767223, 20.492616390372085, 19.38518062648757, 18.729665193892338, 140.0385852774651, 753.3666557408988, 246.81845004329776, 625.3685703103005, 34.39727212762703, 39.070056289714515, 28.822171111461014, 746.4249969127221, 113.04976531518426, 152.85571952317002, 222.9624152777823, 114.84448156968712, 226.1409274279521, 66.83286938276684, 66.67924408915755, 368.282419229047, 344.1312227570797, 83.85280080474175, 105.99176370803191, 55.45922623071674, 170.59267268562232, 105.98533831552353, 60.111127867152, 80.45160943910386, 97.683648655078, 103.59513674682321, 69.87984511337542, 616.8494626536609, 297.0423241467164, 283.4279317997363, 236.74433663588195, 128.18530601779003, 132.49258468984883, 96.58219735298825, 91.0437489029282, 93.23571276608361, 83.70172309402446, 69.02867790032963, 58.597478017666305, 44.775425668369884, 43.88167688199846, 38.10630186149733, 44.634559276309595, 36.9914913657516, 30.704340247700678, 25.647519003241598, 23.173477344726724, 21.861116807148438, 19.1870888184215, 29.05060522905025, 22.608180671754603, 16.753509625529343, 15.428978957897426, 15.553768391817853, 15.544946567557995, 14.689195678820033, 11.426827377120508, 50.911125336433074, 173.25789099739623, 34.03666523400615, 115.46784108531664, 419.20245569520847, 90.58954443489667, 251.10508444324415, 524.5835029530986, 86.17838910032364, 477.6425633405675, 105.60329105495171, 141.60281572172758, 193.2678980776421, 101.76039751043255, 319.768203140248, 87.66507646421215, 119.84607895414682, 86.65279086563484, 108.66288465691835, 82.91594020173635, 80.22602331427434, 59.35387121294873, 47.762911959534925, 37.13161369516576, 32.4419376850481, 26.466815703448553, 20.1166193202795, 19.179945292868442, 9.728503567146308, 9.91131314950059, 9.728904606382144, 9.351937549710778, 14.019811852239293, 9.127959369454127, 8.53432662300226, 7.983230831043631, 7.609134465027002, 8.331872370374075, 7.759392880542051, 7.570818694116306, 6.809441685557037, 6.0614780550026035, 6.039356587844573, 5.861163422618175, 5.682256157460705, 5.842742859855885, 5.4710973884119385, 5.993539418220802, 5.463786237710519, 4.919700147139068, 4.910465526516995, 20.671459336016806, 5.084334345506642, 13.375187279564953, 18.236788542130657, 11.836668579790492, 8.200267191832754, 69.00278590885304, 19.72760590241944, 8.612631096869801, 13.303680822677254, 17.786593864635165, 17.235222972265316, 11.108308086493333, 11.990782866978382, 10.969930793283615, 20.07792126697919, 14.775754734493823, 13.287629428229119, 9.940047744725728, 10.758501836330971, 10.4891990769596], \"Total\": [617.0, 796.0, 705.0, 297.0, 284.0, 277.0, 237.0, 1066.0, 224.0, 590.0, 869.0, 195.0, 195.0, 185.0, 264.0, 286.0, 60.0, 133.0, 128.0, 199.0, 48.0, 126.0, 116.0, 144.0, 97.0, 93.0, 91.0, 37.0, 99.0, 84.0, 277.6959815703741, 195.97265948210534, 195.32445641455234, 224.87859869040383, 116.22671212387495, 185.06961635101973, 126.66030084857036, 99.54520169065135, 58.21716969520675, 57.811988987531585, 47.57650976223588, 45.36718110870784, 41.35258331912446, 38.67818642706932, 37.7987794557012, 32.69034151191708, 32.907889999488056, 32.25063672763701, 30.235835758590472, 26.68476452810468, 29.35346029351103, 26.696914879412386, 59.20652241830337, 23.130011362892446, 23.14146987839611, 21.36814191214606, 21.1413900025194, 20.025889699970143, 19.35743131953265, 144.91495570929536, 796.2122361794839, 264.0185605759655, 705.8881231675325, 36.0059499162273, 41.1121050811379, 30.260428117662563, 1066.5024320069706, 135.31650250690288, 202.84573840524138, 331.9210097935595, 167.80903113132075, 420.28930725952057, 86.70612580679436, 86.7042239112992, 866.0029038365936, 869.8185807360707, 125.0938701338998, 189.19258777474556, 71.81880350042294, 590.090079396865, 247.92901410912597, 84.02425430935189, 167.39898790687738, 286.53251351807785, 365.189420267027, 125.1928070593751, 617.4987510958931, 297.6804762029586, 284.0590358443569, 237.3797002531532, 128.84519354893249, 133.28054911022758, 97.23828576556264, 91.67677589896866, 93.8853770216692, 84.34772390334267, 69.67199194169932, 59.21566306487714, 45.394672578086535, 44.52662148476187, 38.74518379227961, 45.38864304196573, 37.62782905368496, 31.393815982783764, 26.281968292778952, 23.836221306681033, 22.493984566945976, 19.831521572176833, 30.058648933214858, 23.39877741900305, 17.389005538685083, 16.052813787240208, 16.268280464346937, 16.26037037614008, 15.377861731168244, 12.035837201270946, 54.1385206717447, 199.14084922358234, 36.95580185565851, 134.18122082697298, 590.090079396865, 110.78124180611566, 365.189420267027, 869.8185807360707, 112.07225921254596, 866.0029038365936, 151.00731365601237, 247.92901410912597, 420.28930725952057, 175.04322050026786, 1066.5024320069706, 148.17903924188684, 286.53251351807785, 167.39898790687738, 331.9210097935595, 189.19258777474556, 705.8881231675325, 60.044950771165546, 48.45118036380665, 37.828499358839665, 33.184262186826814, 27.199853133189226, 20.814390947287002, 19.850584143583884, 10.375680128058223, 10.587533648389456, 10.396138746660547, 10.00483192798183, 15.068123917743907, 9.818563397273296, 9.240014018849978, 8.646060616103806, 8.254428399803446, 9.041041007594819, 8.459767089141355, 8.269355443084159, 7.497902411498517, 6.714322886791226, 6.716813797621827, 6.5251404675905285, 6.33359422973766, 6.527285781310075, 6.13528470903777, 6.722846024716569, 6.146670385065154, 5.562228241908438, 5.553029697385067, 24.077234909185886, 5.755415689541673, 16.51017181978573, 23.79138803728062, 14.748529403735201, 9.945914518514602, 286.53251351807785, 55.11440665719956, 13.23558808030235, 36.28332048588804, 69.83169557081288, 65.50041175672251, 25.309711075721637, 30.948649052839347, 26.44844768894926, 866.0029038365936, 264.0185605759655, 148.17903924188684, 35.02790505363073, 125.1928070593751, 365.189420267027], \"Category\": [\"Default\", \"Default\", \"Default\", \"Default\", \"Default\", \"Default\", \"Default\", \"Default\", \"Default\", \"Default\", \"Default\", \"Default\", \"Default\", \"Default\", \"Default\", \"Default\", \"Default\", \"Default\", \"Default\", \"Default\", \"Default\", \"Default\", \"Default\", \"Default\", \"Default\", \"Default\", \"Default\", \"Default\", \"Default\", \"Default\", \"Topic1\", \"Topic1\", \"Topic1\", \"Topic1\", \"Topic1\", \"Topic1\", \"Topic1\", \"Topic1\", \"Topic1\", \"Topic1\", \"Topic1\", \"Topic1\", \"Topic1\", \"Topic1\", \"Topic1\", \"Topic1\", \"Topic1\", \"Topic1\", \"Topic1\", \"Topic1\", \"Topic1\", \"Topic1\", \"Topic1\", \"Topic1\", \"Topic1\", \"Topic1\", \"Topic1\", \"Topic1\", \"Topic1\", \"Topic1\", \"Topic1\", \"Topic1\", \"Topic1\", \"Topic1\", \"Topic1\", \"Topic1\", \"Topic1\", \"Topic1\", \"Topic1\", \"Topic1\", \"Topic1\", \"Topic1\", \"Topic1\", \"Topic1\", \"Topic1\", \"Topic1\", \"Topic1\", \"Topic1\", \"Topic1\", \"Topic1\", \"Topic1\", \"Topic1\", \"Topic1\", \"Topic1\", \"Topic1\", \"Topic1\", \"Topic2\", \"Topic2\", \"Topic2\", \"Topic2\", \"Topic2\", \"Topic2\", \"Topic2\", \"Topic2\", \"Topic2\", \"Topic2\", \"Topic2\", \"Topic2\", \"Topic2\", \"Topic2\", \"Topic2\", \"Topic2\", \"Topic2\", \"Topic2\", \"Topic2\", \"Topic2\", \"Topic2\", \"Topic2\", \"Topic2\", \"Topic2\", \"Topic2\", \"Topic2\", \"Topic2\", \"Topic2\", \"Topic2\", \"Topic2\", \"Topic2\", \"Topic2\", \"Topic2\", \"Topic2\", \"Topic2\", \"Topic2\", \"Topic2\", \"Topic2\", \"Topic2\", \"Topic2\", \"Topic2\", \"Topic2\", \"Topic2\", \"Topic2\", \"Topic2\", \"Topic2\", \"Topic2\", \"Topic2\", \"Topic2\", \"Topic2\", \"Topic2\", \"Topic3\", \"Topic3\", \"Topic3\", \"Topic3\", \"Topic3\", \"Topic3\", \"Topic3\", \"Topic3\", \"Topic3\", \"Topic3\", \"Topic3\", \"Topic3\", \"Topic3\", \"Topic3\", \"Topic3\", \"Topic3\", \"Topic3\", \"Topic3\", \"Topic3\", \"Topic3\", \"Topic3\", \"Topic3\", \"Topic3\", \"Topic3\", \"Topic3\", \"Topic3\", \"Topic3\", \"Topic3\", \"Topic3\", \"Topic3\", \"Topic3\", \"Topic3\", \"Topic3\", \"Topic3\", \"Topic3\", \"Topic3\", \"Topic3\", \"Topic3\", \"Topic3\", \"Topic3\", \"Topic3\", \"Topic3\", \"Topic3\", \"Topic3\", \"Topic3\", \"Topic3\", \"Topic3\", \"Topic3\", \"Topic3\", \"Topic3\", \"Topic3\"], \"logprob\": [30.0, 29.0, 28.0, 27.0, 26.0, 25.0, 24.0, 23.0, 22.0, 21.0, 20.0, 19.0, 18.0, 17.0, 16.0, 15.0, 14.0, 13.0, 12.0, 11.0, 10.0, 9.0, 8.0, 7.0, 6.0, 5.0, 4.0, 3.0, 2.0, 1.0, -3.8962, -4.2457, -4.2493, -4.1087, -4.7704, -4.3059, -4.6855, -4.9273, -5.4674, -5.4746, -5.6716, -5.7197, -5.8138, -5.8825, -5.9056, -6.0527, -6.0464, -6.0671, -6.1346, -6.2608, -6.1658, -6.2607, -5.4672, -6.4077, -6.4073, -6.4895, -6.5003, -6.5559, -6.5903, -4.5785, -2.8958, -4.0117, -3.082, -5.9824, -5.855, -6.1592, -2.9051, -4.7926, -4.4909, -4.1134, -4.7768, -4.0992, -5.3182, -5.3205, -3.6115, -3.6794, -5.0913, -4.857, -5.5047, -4.3811, -4.8571, -5.4242, -5.1327, -4.9386, -4.8799, -5.2736, -2.9801, -3.7109, -3.7578, -3.9378, -4.5513, -4.5182, -4.8344, -4.8934, -4.8696, -4.9775, -5.1702, -5.3341, -5.6031, -5.6233, -5.7644, -5.6062, -5.7941, -5.9804, -6.1603, -6.2617, -6.32, -6.4505, -6.0357, -6.2864, -6.5861, -6.6685, -6.6605, -6.661, -6.7176, -6.9688, -5.4747, -4.25, -5.8773, -4.6558, -3.3664, -4.8984, -3.8789, -3.1422, -4.9483, -3.2359, -4.7451, -4.4517, -4.1407, -4.7821, -3.6372, -4.9312, -4.6185, -4.9428, -4.7165, -4.9869, -5.0199, -4.1687, -4.386, -4.6378, -4.7728, -4.9763, -5.2507, -5.2984, -5.9772, -5.9586, -5.9771, -6.0167, -5.6118, -6.0409, -6.1081, -6.1749, -6.2229, -6.1321, -6.2033, -6.2279, -6.3339, -6.4503, -6.4539, -6.4839, -6.5149, -6.487, -6.5528, -6.4616, -6.5541, -6.659, -6.6609, -5.2235, -6.6261, -5.6588, -5.3488, -5.781, -6.1481, -4.0181, -5.2702, -6.099, -5.6642, -5.3738, -5.4053, -5.8445, -5.7681, -5.8571, -5.2526, -5.5592, -5.6654, -5.9557, -5.8765, -5.9019], \"loglift\": [30.0, 29.0, 28.0, 27.0, 26.0, 25.0, 24.0, 23.0, 22.0, 21.0, 20.0, 19.0, 18.0, 17.0, 16.0, 15.0, 14.0, 13.0, 12.0, 11.0, 10.0, 9.0, 8.0, 7.0, 6.0, 5.0, 4.0, 3.0, 2.0, 1.0, 0.7734, 0.7724, 0.7721, 0.7718, 0.7702, 0.7694, 0.7691, 0.7682, 0.7645, 0.7643, 0.7621, 0.7616, 0.7602, 0.7583, 0.7582, 0.7563, 0.756, 0.7554, 0.7525, 0.7512, 0.7509, 0.7509, 0.7479, 0.7473, 0.7471, 0.7447, 0.7446, 0.7432, 0.7428, 0.7415, 0.7204, 0.7084, 0.6546, 0.73, 0.7248, 0.727, 0.4189, 0.5959, 0.4928, 0.3778, 0.3965, 0.1559, 0.5154, 0.5131, -0.0793, -0.1515, 0.3757, 0.1963, 0.5172, -0.4653, -0.0741, 0.4408, 0.043, -0.3004, -0.4842, 0.1926, 0.8903, 0.8892, 0.8891, 0.8887, 0.8862, 0.8854, 0.8846, 0.8844, 0.8844, 0.8837, 0.8821, 0.8809, 0.8776, 0.8768, 0.8747, 0.8746, 0.8743, 0.8691, 0.8669, 0.8632, 0.8628, 0.8583, 0.8572, 0.857, 0.8541, 0.8517, 0.8464, 0.8464, 0.8455, 0.8394, 0.8299, 0.7521, 0.8091, 0.7411, 0.5494, 0.6901, 0.5168, 0.3857, 0.6286, 0.2963, 0.5337, 0.3312, 0.1145, 0.3489, -0.3132, 0.3665, 0.0197, 0.2329, -0.2253, 0.0664, -1.2833, 2.0323, 2.0296, 2.0253, 2.0212, 2.0165, 2.0098, 2.0095, 1.9795, 1.9779, 1.9775, 1.9764, 1.9718, 1.9709, 1.9644, 1.9641, 1.9625, 1.9622, 1.9575, 1.9556, 1.9476, 1.9416, 1.9376, 1.9366, 1.9353, 1.9331, 1.9293, 1.929, 1.9261, 1.9211, 1.9209, 1.8914, 1.9199, 1.8333, 1.778, 1.8239, 1.8509, 0.6202, 1.0165, 1.6142, 1.0406, 0.6762, 0.7088, 1.2204, 1.0957, 1.1638, -1.7204, -0.8392, -0.3677, 0.7843, -0.4103, -1.5062]}, \"token.table\": {\"Topic\": [1, 1, 2, 1, 2, 1, 2, 3, 3, 1, 2, 1, 3, 3, 1, 2, 3, 1, 2, 3, 3, 3, 3, 3, 3, 1, 2, 3, 3, 3, 3, 1, 2, 1, 2, 3, 2, 1, 2, 1, 2, 3, 2, 3, 1, 1, 1, 1, 2, 3, 1, 2, 1, 2, 3, 3, 2, 1, 1, 2, 1, 1, 2, 1, 2, 1, 2, 1, 3, 1, 2, 2, 2, 1, 2, 1, 2, 3, 1, 2, 3, 2, 2, 3, 3, 2, 3, 2, 2, 2, 1, 2, 3, 1, 1, 1, 2, 1, 1, 2, 3, 1, 2, 3, 1, 3, 2, 1, 3, 3, 3, 1, 2, 1, 2, 3, 3, 2, 2, 2, 3, 1, 2, 1, 1, 2, 1, 3, 1, 3, 2, 2, 1, 2, 1, 2, 1, 3, 2, 1, 2, 1, 1, 2, 3, 1, 2, 2, 1, 2, 1, 2, 3, 1, 2, 3, 2, 3, 1, 2, 3, 2, 2, 2, 2, 1, 2, 3, 1, 2, 3, 2, 1, 2, 1, 2, 1, 3, 1, 2, 3, 1, 2, 3, 2, 1, 2, 3, 1, 2, 1, 3, 1, 3, 2, 3, 1, 1, 2, 3, 2, 3, 1, 1, 2, 3, 1, 1, 2, 3, 1, 2, 2, 3, 3, 3], \"Freq\": [0.9487718291002235, 0.9942204648601476, 0.0054033720916312365, 0.6718465942806584, 0.32839138464839357, 0.9486257131088399, 0.04864747246712, 0.9740244962442329, 0.9637922407570857, 0.8854094288985014, 0.11333240689900818, 0.6339000866512637, 0.3582913533246273, 0.919218217345427, 0.42494083838480756, 0.5519611976846142, 0.023094610781783022, 0.344737449831877, 0.2903052209110543, 0.36288152613881786, 0.9643125352566395, 0.9571506743866371, 0.884853856240636, 0.9691767391416825, 0.8932806805102109, 0.2847837155960188, 0.6873145443711608, 0.02738304957654027, 0.9558875142702455, 0.8995653365079044, 0.8687469801852262, 0.7727251030601326, 0.23066420986869632, 0.6994826993466473, 0.3000461981111624, 0.978098540177855, 0.9807670600744938, 0.13056085730963665, 0.8687318582525824, 0.4274782287475662, 0.3053415919625473, 0.2595403531681652, 0.9903920780730838, 0.9166310422255237, 0.9824659196896914, 0.9919064596976389, 0.99222847195999, 0.9788675860119415, 0.5531473653774543, 0.4346157870822856, 0.2897862647933011, 0.7100610815695507, 0.377049735553163, 0.5827132276730701, 0.039990123467759715, 0.9252768810224995, 0.9829573395283812, 0.9460115913672951, 0.9960930088700285, 0.004446843789598341, 0.9788824013458096, 0.9583473137669566, 0.033046459095412296, 0.231993181744385, 0.7673620626929657, 0.0811780518717294, 0.9200179212129332, 0.20341011078977286, 0.8136404431590915, 0.4275417315754101, 0.5727445838085683, 0.9892714164465215, 0.9833147680991848, 0.03326829499961318, 0.9647805549887823, 0.9355402872478399, 0.007575224997958218, 0.05681418748468663, 0.19984066958279117, 0.5138760074986058, 0.2854866708325588, 0.9914374386207935, 0.9977140717737409, 0.9335944395948723, 0.9473293966052705, 0.5671410351340707, 0.4159034257649851, 0.9754282007619834, 0.9963580064173079, 0.9958774951207796, 0.0605687215684578, 0.1211374431369156, 0.7873933803899513, 0.9859546609318924, 0.9962696624321703, 0.9950367592873629, 0.9835089845583317, 0.9879584795122377, 0.9511452309658037, 0.9420279565676659, 0.0554134092098627, 0.3954847684546992, 0.6035741379032473, 0.001149665024577614, 0.9914737293096414, 0.967427274720737, 0.9962717755440909, 0.9724111755721142, 0.813448531769123, 0.9445070336585112, 0.8149581049815986, 0.47790014145427995, 0.5197164038315295, 0.8350792246809331, 0.1625817959555799, 0.8924791640238341, 0.9608736595104095, 0.9934402399837173, 0.9780392590972137, 0.9649180423389235, 0.9004093751478603, 0.9457277416548735, 0.0540057010506767, 0.9945230741272127, 0.974338745714489, 0.9905695961420611, 0.10054379596149471, 0.8043503676919577, 0.9922001243665485, 0.961895588707125, 0.9913057511890271, 0.9874556191894693, 0.7140795296926784, 0.2856318118770713, 0.2979988115178839, 0.7019527560199043, 0.9796217989332475, 0.016890031016090476, 0.9984004518804755, 0.5602756495207126, 0.4387064048133882, 0.9980493974256682, 0.18053597950276726, 0.821438706737591, 0.009026798975138363, 0.9983388848457168, 0.9776292245223761, 0.9975494655866607, 0.7727420531269946, 0.23066926959014764, 0.5591375546584011, 0.35944557085182927, 0.08786447287489159, 0.6300863761124311, 0.1145611592931693, 0.25776260840963094, 0.9991923042840039, 0.893612073944719, 0.48467382128344766, 0.09693476425668954, 0.38773905702675815, 0.9580707123681604, 0.9903549199187296, 0.9839874264781729, 0.9926178043203168, 0.08306601682226247, 0.041533008411131236, 0.872193176633756, 0.1341469386629821, 0.8570498859023856, 0.8989203215947977, 0.9881728847327415, 0.9947868365687857, 0.007895133623561791, 0.973895302788345, 0.9139372538902766, 0.9660838614949107, 0.03450299505338966, 0.5377248388107322, 0.45920749509058106, 0.0023793134460651866, 0.6714957328451574, 0.2877838855050675, 0.039969984097926035, 0.9344156232549679, 0.31718386244411667, 0.5938761679804737, 0.08773170663347908, 0.7658161556489326, 0.22278288164332583, 0.9974937283339921, 0.9456525121440406, 0.950674270718571, 0.9825971916415103, 0.3022155098610945, 0.6799848971874627, 0.9827714588540428, 0.6853028065575656, 0.3039168968211812, 0.01191830967926201, 0.21016007944408716, 0.7565762859987138, 0.9815351885468407, 0.34202052254644744, 0.41880063985279276, 0.24081036791535584, 0.9878824704645844, 0.7542677563890423, 0.2070538939107175, 0.03943883693537476, 0.94428837675733, 0.027773187551686177, 0.06636526255418042, 0.9291136757585258, 0.990687938654562, 0.9195204348168704], \"Term\": [\"aamiin\", \"alhamdulillah\", \"alhamdulillah\", \"aman\", \"aman\", \"an\", \"an\", \"and\", \"anjay\", \"awet\", \"awet\", \"awett\", \"awett\", \"awettttt\", \"bagus\", \"bagus\", \"bagus\", \"baguss\", \"baguss\", \"baguss\", \"bagusss\", \"bagussss\", \"bagusssss\", \"bagusssssssssssssssssssssssss\", \"baikkkk\", \"banget\", \"banget\", \"banget\", \"bangett\", \"bangettttt\", \"bangetttttt\", \"bank\", \"bank\", \"barang\", \"barang\", \"bawa\", \"belanja\", \"beli\", \"beli\", \"berat\", \"berat\", \"berat\", \"bgt\", \"bgtt\", \"blm\", \"bubble\", \"c\", \"cacat\", \"cakep\", \"cakep\", \"cepat\", \"cepat\", \"cepet\", \"cepet\", \"cepet\", \"cepett\", \"charge\", \"charger\", \"coba\", \"coba\", \"darat\", \"dateng\", \"dateng\", \"deh\", \"deh\", \"diskon\", \"diskon\", \"eh\", \"eh\", \"emas\", \"emas\", \"fast\", \"flash\", \"full\", \"full\", \"fungsi\", \"fungsi\", \"fungsi\", \"gk\", \"gk\", \"gk\", \"good\", \"harga\", \"hati\", \"i\", \"it\", \"it\", \"jamin\", \"jangkau\", \"jual\", \"jugaa\", \"jugaa\", \"jugaa\", \"kabel\", \"kak\", \"kasih\", \"kemaren\", \"kemas\", \"kendala\", \"keren\", \"keren\", \"kirim\", \"kirim\", \"kirim\", \"kondisi\", \"kosong\", \"kualitas\", \"lecet\", \"lilac\", \"love\", \"lucuu\", \"lumayan\", \"lumayan\", \"makasih\", \"makasih\", \"makasihhh\", \"mantab\", \"mantap\", \"mantul\", \"merk\", \"milik\", \"moga\", \"moga\", \"mudah\", \"mulus\", \"murah\", \"neng\", \"neng\", \"next\", \"nyaa\", \"nyesel\", \"official\", \"ok\", \"ok\", \"oke\", \"oke\", \"order\", \"order\", \"original\", \"packing\", \"packing\", \"paket\", \"pas\", \"pas\", \"pas\", \"pesan\", \"poko\", \"pokok\", \"power\", \"power\", \"powerbank\", \"powerbank\", \"powerbank\", \"powerbanknya\", \"powerbanknya\", \"powerbanknya\", \"produk\", \"produkkk\", \"putih\", \"putih\", \"putih\", \"ragu\", \"ramah\", \"recomended\", \"respon\", \"ringan\", \"ringan\", \"ringan\", \"robot\", \"robot\", \"s\", \"sale\", \"sampe\", \"sampe\", \"segel\", \"segitu\", \"selamat\", \"selamat\", \"sesuai\", \"sesuai\", \"sesuai\", \"sih\", \"sih\", \"sih\", \"store\", \"suka\", \"suka\", \"suka\", \"tahan\", \"tahan\", \"terima\", \"terimakasihh\", \"tgl\", \"thank\", \"the\", \"the\", \"type\", \"udah\", \"udah\", \"udah\", \"ungu\", \"ungu\", \"usb\", \"warna\", \"warna\", \"warna\", \"wrap\", \"ya\", \"ya\", \"ya\", \"yaaa\", \"yaaa\", \"yaaaa\", \"yaaaa\", \"you\", \"youu\"]}, \"R\": 30, \"lambda.step\": 0.01, \"plot.opts\": {\"xlab\": \"PC1\", \"ylab\": \"PC2\"}, \"topic.order\": [1, 3, 2]};\n",
       "\n",
       "function LDAvis_load_lib(url, callback){\n",
       "  var s = document.createElement('script');\n",
       "  s.src = url;\n",
       "  s.async = true;\n",
       "  s.onreadystatechange = s.onload = callback;\n",
       "  s.onerror = function(){console.warn(\"failed to load library \" + url);};\n",
       "  document.getElementsByTagName(\"head\")[0].appendChild(s);\n",
       "}\n",
       "\n",
       "if(typeof(LDAvis) !== \"undefined\"){\n",
       "   // already loaded: just create the visualization\n",
       "   !function(LDAvis){\n",
       "       new LDAvis(\"#\" + \"ldavis_el1138822703161198721864601867\", ldavis_el1138822703161198721864601867_data);\n",
       "   }(LDAvis);\n",
       "}else if(typeof define === \"function\" && define.amd){\n",
       "   // require.js is available: use it to load d3/LDAvis\n",
       "   require.config({paths: {d3: \"https://d3js.org/d3.v5\"}});\n",
       "   require([\"d3\"], function(d3){\n",
       "      window.d3 = d3;\n",
       "      LDAvis_load_lib(\"https://cdn.jsdelivr.net/gh/bmabey/pyLDAvis/pyLDAvis/js/ldavis.v3.0.0.js\", function(){\n",
       "        new LDAvis(\"#\" + \"ldavis_el1138822703161198721864601867\", ldavis_el1138822703161198721864601867_data);\n",
       "      });\n",
       "    });\n",
       "}else{\n",
       "    // require.js not available: dynamically load d3 & LDAvis\n",
       "    LDAvis_load_lib(\"https://d3js.org/d3.v5.js\", function(){\n",
       "         LDAvis_load_lib(\"https://cdn.jsdelivr.net/gh/bmabey/pyLDAvis/pyLDAvis/js/ldavis.v3.0.0.js\", function(){\n",
       "                 new LDAvis(\"#\" + \"ldavis_el1138822703161198721864601867\", ldavis_el1138822703161198721864601867_data);\n",
       "            })\n",
       "         });\n",
       "}\n",
       "</script>"
      ],
      "text/plain": [
       "PreparedData(topic_coordinates=              x         y  topics  cluster       Freq\n",
       "topic                                                \n",
       "0     -0.129393  0.128556       1        1  46.037099\n",
       "2     -0.104647 -0.137949       2        1  41.010230\n",
       "1      0.234040  0.009393       3        1  12.952671, topic_info=          Term        Freq       Total Category  logprob  loglift\n",
       "106     produk  617.000000  617.000000  Default  30.0000  30.0000\n",
       "112       moga  796.000000  796.000000  Default  29.0000  29.0000\n",
       "24        awet  705.000000  705.000000  Default  28.0000  28.0000\n",
       "49       harga  297.000000  297.000000  Default  27.0000  27.0000\n",
       "141   kualitas  284.000000  284.000000  Default  26.0000  26.0000\n",
       "..         ...         ...         ...      ...      ...      ...\n",
       "9       fungsi   14.775755  264.018561   Topic3  -5.5592  -0.8392\n",
       "82        suka   13.287629  148.179039   Topic3  -5.6654  -0.3677\n",
       "572         gk    9.940048   35.027905   Topic3  -5.9557   0.7843\n",
       "78   powerbank   10.758502  125.192807   Topic3  -5.8765  -0.4103\n",
       "5       banget   10.489199  365.189420   Topic3  -5.9019  -1.5062\n",
       "\n",
       "[188 rows x 6 columns], token_table=      Topic      Freq           Term\n",
       "term                                \n",
       "868       1  0.948772         aamiin\n",
       "0         1  0.994220  alhamdulillah\n",
       "0         2  0.005403  alhamdulillah\n",
       "1         1  0.671847           aman\n",
       "1         2  0.328391           aman\n",
       "...     ...       ...            ...\n",
       "595       2  0.027773           yaaa\n",
       "998       2  0.066365          yaaaa\n",
       "998       3  0.929114          yaaaa\n",
       "98        3  0.990688            you\n",
       "161       3  0.919520           youu\n",
       "\n",
       "[216 rows x 3 columns], R=30, lambda_step=0.01, plot_opts={'xlab': 'PC1', 'ylab': 'PC2'}, topic_order=[1, 3, 2])"
      ]
     },
     "execution_count": 40,
     "metadata": {},
     "output_type": "execute_result"
    }
   ],
   "source": [
    "# proses ini mungkin agak lama\n",
    "LDAvis_prepared"
   ]
  }
 ],
 "metadata": {
  "kernelspec": {
   "display_name": "Python 3 (ipykernel)",
   "language": "python",
   "name": "python3"
  },
  "language_info": {
   "codemirror_mode": {
    "name": "ipython",
    "version": 3
   },
   "file_extension": ".py",
   "mimetype": "text/x-python",
   "name": "python",
   "nbconvert_exporter": "python",
   "pygments_lexer": "ipython3",
   "version": "3.9.12"
  }
 },
 "nbformat": 4,
 "nbformat_minor": 5
}
