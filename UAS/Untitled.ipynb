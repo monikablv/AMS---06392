{
 "cells": [
  {
   "cell_type": "code",
   "execution_count": 1,
   "id": "18fb6cc8",
   "metadata": {},
   "outputs": [
    {
     "ename": "NameError",
     "evalue": "name 'dataSB' is not defined",
     "output_type": "error",
     "traceback": [
      "\u001b[1;31m---------------------------------------------------------------------------\u001b[0m",
      "\u001b[1;31mNameError\u001b[0m                                 Traceback (most recent call last)",
      "Input \u001b[1;32mIn [1]\u001b[0m, in \u001b[0;36m<cell line: 15>\u001b[1;34m()\u001b[0m\n\u001b[0;32m     11\u001b[0m     \u001b[38;5;28;01mreturn\u001b[39;00m stemmer\u001b[38;5;241m.\u001b[39mstem(term)\n\u001b[0;32m     13\u001b[0m term_dict \u001b[38;5;241m=\u001b[39m ()\n\u001b[1;32m---> 15\u001b[0m \u001b[38;5;28;01mfor\u001b[39;00m document \u001b[38;5;129;01min\u001b[39;00m \u001b[43mdataSB\u001b[49m[\u001b[38;5;124m'\u001b[39m\u001b[38;5;124mtextdata_normalized\u001b[39m\u001b[38;5;124m'\u001b[39m]:\n\u001b[0;32m     16\u001b[0m     \u001b[38;5;28;01mfor\u001b[39;00m term \u001b[38;5;129;01min\u001b[39;00m document:\n\u001b[0;32m     17\u001b[0m         \u001b[38;5;28;01mif\u001b[39;00m term \u001b[38;5;129;01mnot\u001b[39;00m \u001b[38;5;129;01min\u001b[39;00m term_dict:\n",
      "\u001b[1;31mNameError\u001b[0m: name 'dataSB' is not defined"
     ]
    }
   ],
   "source": [
    "# import Sastrawi package \n",
    "from Sastrawi.Stemmer.StemmerFactory import StemmerFactory\n",
    "import swifter\n",
    "\n",
    "# create stemmer\n",
    "factory = StemmerFactory()\n",
    "stemmer = factory.create_stemmer()\n",
    "\n",
    "# stemmed\n",
    "def stemmed_wrapper(term):\n",
    "    return stemmer.stem(term)\n",
    "\n",
    "term_dict = ()\n",
    "\n",
    "for document in dataSB['textdata_normalized']:\n",
    "    for term in document:\n",
    "        if term not in term_dict:\n",
    "            term_dict[term] = ''\n",
    "            \n",
    "print(len(term_dict))"
   ]
  },
  {
   "cell_type": "code",
   "execution_count": null,
   "id": "98571210",
   "metadata": {},
   "outputs": [],
   "source": [
    "for term in term_dict:\n",
    "    term_dict[term] = stemmed_wrapper(term)\n",
    "    \n",
    "    # untuk melihat hasilnya silahkan jalankan baris dibawah ini\n",
    "    # print(term,\":\", term_dict[term])"
   ]
  },
  {
   "cell_type": "code",
   "execution_count": null,
   "id": "336014c8",
   "metadata": {},
   "outputs": [],
   "source": [
    "# apply stemmed term to dataframe\n",
    "def get_stemmed_term(document):\n",
    "    return [term_dict[term] for term in document]\n",
    "\n",
    "dataSB['textdata_tokens_stemmed'] = dataSB['textdata_normalized'].swifter.apply(get_stemmed_term)\n",
    "\n",
    "print(dataSB['textdata_tokens_stemmed'])"
   ]
  },
  {
   "cell_type": "code",
   "execution_count": null,
   "id": "3d9d16a1",
   "metadata": {},
   "outputs": [],
   "source": [
    "for i in range(len(dataSB)):\n",
    "    a = dataSB.iloc[i][6]\n",
    "    document.append(a)\n",
    "    \n",
    "document[0:5]"
   ]
  },
  {
   "cell_type": "code",
   "execution_count": null,
   "id": "e5b28593",
   "metadata": {},
   "outputs": [],
   "source": [
    "doc_clean = dataSB['textdata_tokens_stemmed2']\n",
    "doc_clean"
   ]
  },
  {
   "cell_type": "code",
   "execution_count": null,
   "id": "bd0fa830",
   "metadata": {},
   "outputs": [],
   "source": [
    "# remove stopwords pada list token\n",
    "def stopwords_removal(words):\n",
    "    return [word for word in words if word not in list_stopwords]\n",
    "\n",
    "dataSB['textdata_tokens_stemmed2'] = dataSB['textdata_tokens_stemmed'].apply(stopwords_removal)\n",
    "\n",
    "print(dataSB['textdata_tokens_stemmed2'].head())"
   ]
  }
 ],
 "metadata": {
  "kernelspec": {
   "display_name": "Python 3 (ipykernel)",
   "language": "python",
   "name": "python3"
  },
  "language_info": {
   "codemirror_mode": {
    "name": "ipython",
    "version": 3
   },
   "file_extension": ".py",
   "mimetype": "text/x-python",
   "name": "python",
   "nbconvert_exporter": "python",
   "pygments_lexer": "ipython3",
   "version": "3.9.12"
  }
 },
 "nbformat": 4,
 "nbformat_minor": 5
}
